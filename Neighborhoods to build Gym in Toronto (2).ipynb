{
 "cells": [
  {
   "cell_type": "markdown",
   "metadata": {},
   "source": [
    "#  Neighborhoods to build Gym in Toronto"
   ]
  },
  {
   "cell_type": "markdown",
   "metadata": {},
   "source": [
    "project explanation:"
   ]
  },
  {
   "cell_type": "markdown",
   "metadata": {},
   "source": [
    "# Goal: \n",
    "Today, the number of people paying more attention to exercise is increasing as they want to be more healthier, have fit body and live longer.people of Toronto are no exception. An investor is going to build a gym or maybe more in Toronto and is seeking for more suitable places. Two of the factor that can affect the decision are the population in the area and the income of the people as wealthier people enroll more in gyms on average. In this project, we are going to get the related data and cluster the neighborhoods based on the data. Then, based on these data, we suggest better neighborhoods to think of for investing on building the gym. "
   ]
  },
  {
   "cell_type": "markdown",
   "metadata": {},
   "source": [
    "# process:\n",
    "0- installing and importing the required libraries\n",
    "\n",
    "1- Getting and preparing postal codes of Toronto - Canada from *Wikipedia.org* (including postal code - boroughs and neighborhoods) - making a dataframe out of it\n",
    "\n",
    "2- Downloading and reading a CSV file containing the postal codes and their latitudes and longitudes - making a dataframe out of it\n",
    "\n",
    "3- Cleaning and merging the two dataframes \n",
    "\n",
    "4- population and household average income of Toronto neighborhoods - getting data from *www12.statcan.gc.ca*\n",
    "\n",
    "5- Exploring the number of Gyms in each neighborhood using the *foursqaure*.\n",
    "\n",
    "6- preparing the data and Clustering the neighborhoods using *Kmeans* clustering.\n",
    "\n",
    "7- Visualizing the clusters using *folium*\n",
    "\n",
    "8- choosing better neighborhoods\n"
   ]
  },
  {
   "cell_type": "markdown",
   "metadata": {},
   "source": [
    "## 0- installing and importing the required libraries"
   ]
  },
  {
   "cell_type": "code",
   "execution_count": 1,
   "metadata": {},
   "outputs": [
    {
     "name": "stdout",
     "output_type": "stream",
     "text": [
      "Collecting beautifulsoup4\n",
      "\u001b[?25l  Downloading https://files.pythonhosted.org/packages/66/25/ff030e2437265616a1e9b25ccc864e0371a0bc3adb7c5a404fd661c6f4f6/beautifulsoup4-4.9.1-py3-none-any.whl (115kB)\n",
      "\u001b[K     |████████████████████████████████| 122kB 5.4MB/s eta 0:00:01\n",
      "\u001b[?25hCollecting soupsieve>1.2 (from beautifulsoup4)\n",
      "  Downloading https://files.pythonhosted.org/packages/6f/8f/457f4a5390eeae1cc3aeab89deb7724c965be841ffca6cfca9197482e470/soupsieve-2.0.1-py3-none-any.whl\n",
      "Installing collected packages: soupsieve, beautifulsoup4\n",
      "Successfully installed beautifulsoup4-4.9.1 soupsieve-2.0.1\n",
      "Collecting lxml\n",
      "\u001b[?25l  Downloading https://files.pythonhosted.org/packages/55/6f/c87dffdd88a54dd26a3a9fef1d14b6384a9933c455c54ce3ca7d64a84c88/lxml-4.5.1-cp36-cp36m-manylinux1_x86_64.whl (5.5MB)\n",
      "\u001b[K     |████████████████████████████████| 5.5MB 6.9MB/s eta 0:00:01     |█████████▏                      | 1.6MB 6.9MB/s eta 0:00:01  |████████████████████████████████| 5.5MB 6.9MB/s eta 0:00:01\n",
      "\u001b[?25hRequirement already satisfied: html5lib in /home/jupyterlab/conda/envs/python/lib/python3.6/site-packages (0.9999999)\n",
      "Requirement already satisfied: beautifulsoup4 in /home/jupyterlab/conda/envs/python/lib/python3.6/site-packages (4.9.1)\n",
      "Requirement already satisfied: six in /home/jupyterlab/conda/envs/python/lib/python3.6/site-packages (from html5lib) (1.15.0)\n",
      "Requirement already satisfied: soupsieve>1.2 in /home/jupyterlab/conda/envs/python/lib/python3.6/site-packages (from beautifulsoup4) (2.0.1)\n",
      "Installing collected packages: lxml\n",
      "Successfully installed lxml-4.5.1\n",
      "Collecting package metadata (current_repodata.json): done\n",
      "Solving environment: failed with initial frozen solve. Retrying with flexible solve.\n",
      "Collecting package metadata (repodata.json): done\n",
      "Solving environment: done\n",
      "\n",
      "## Package Plan ##\n",
      "\n",
      "  environment location: /home/jupyterlab/conda/envs/python\n",
      "\n",
      "  added / updated specs:\n",
      "    - folium=0.5.0\n",
      "\n",
      "\n",
      "The following packages will be downloaded:\n",
      "\n",
      "    package                    |            build\n",
      "    ---------------------------|-----------------\n",
      "    altair-4.1.0               |             py_1         614 KB  conda-forge\n",
      "    branca-0.4.1               |             py_0          26 KB  conda-forge\n",
      "    brotlipy-0.7.0             |py36h8c4c3a4_1000         346 KB  conda-forge\n",
      "    ca-certificates-2020.6.20  |       hecda079_0         145 KB  conda-forge\n",
      "    certifi-2020.6.20          |   py36h9f0ad1d_0         151 KB  conda-forge\n",
      "    chardet-3.0.4              |py36h9f0ad1d_1006         188 KB  conda-forge\n",
      "    cryptography-2.9.2         |   py36h45558ae_0         613 KB  conda-forge\n",
      "    folium-0.5.0               |             py_0          45 KB  conda-forge\n",
      "    idna-2.10                  |     pyh9f0ad1d_0          52 KB  conda-forge\n",
      "    pandas-1.0.5               |   py36h830a2c2_0        10.1 MB  conda-forge\n",
      "    pysocks-1.7.1              |   py36h9f0ad1d_1          27 KB  conda-forge\n",
      "    requests-2.24.0            |     pyh9f0ad1d_0          47 KB  conda-forge\n",
      "    toolz-0.10.0               |             py_0          46 KB  conda-forge\n",
      "    vincent-0.4.4              |             py_1          28 KB  conda-forge\n",
      "    ------------------------------------------------------------\n",
      "                                           Total:        12.4 MB\n",
      "\n",
      "The following NEW packages will be INSTALLED:\n",
      "\n",
      "  altair             conda-forge/noarch::altair-4.1.0-py_1\n",
      "  attrs              conda-forge/noarch::attrs-19.3.0-py_0\n",
      "  branca             conda-forge/noarch::branca-0.4.1-py_0\n",
      "  brotlipy           conda-forge/linux-64::brotlipy-0.7.0-py36h8c4c3a4_1000\n",
      "  chardet            conda-forge/linux-64::chardet-3.0.4-py36h9f0ad1d_1006\n",
      "  cryptography       conda-forge/linux-64::cryptography-2.9.2-py36h45558ae_0\n",
      "  entrypoints        conda-forge/linux-64::entrypoints-0.3-py36h9f0ad1d_1001\n",
      "  folium             conda-forge/noarch::folium-0.5.0-py_0\n",
      "  idna               conda-forge/noarch::idna-2.10-pyh9f0ad1d_0\n",
      "  importlib_metadata conda-forge/noarch::importlib_metadata-1.6.1-0\n",
      "  jinja2             conda-forge/noarch::jinja2-2.11.2-pyh9f0ad1d_0\n",
      "  jsonschema         conda-forge/linux-64::jsonschema-3.2.0-py36h9f0ad1d_1\n",
      "  markupsafe         conda-forge/linux-64::markupsafe-1.1.1-py36h8c4c3a4_1\n",
      "  pandas             conda-forge/linux-64::pandas-1.0.5-py36h830a2c2_0\n",
      "  pyopenssl          conda-forge/noarch::pyopenssl-19.1.0-py_1\n",
      "  pyrsistent         conda-forge/linux-64::pyrsistent-0.16.0-py36h8c4c3a4_0\n",
      "  pysocks            conda-forge/linux-64::pysocks-1.7.1-py36h9f0ad1d_1\n",
      "  pytz               conda-forge/noarch::pytz-2020.1-pyh9f0ad1d_0\n",
      "  requests           conda-forge/noarch::requests-2.24.0-pyh9f0ad1d_0\n",
      "  toolz              conda-forge/noarch::toolz-0.10.0-py_0\n",
      "  urllib3            conda-forge/noarch::urllib3-1.25.9-py_0\n",
      "  vincent            conda-forge/noarch::vincent-0.4.4-py_1\n",
      "\n",
      "The following packages will be UPDATED:\n",
      "\n",
      "  ca-certificates                     2020.4.5.2-hecda079_0 --> 2020.6.20-hecda079_0\n",
      "  certifi                         2020.4.5.2-py36h9f0ad1d_0 --> 2020.6.20-py36h9f0ad1d_0\n",
      "\n",
      "\n",
      "\n",
      "Downloading and Extracting Packages\n",
      "certifi-2020.6.20    | 151 KB    | ##################################### | 100% \n",
      "idna-2.10            | 52 KB     | ##################################### | 100% \n",
      "pysocks-1.7.1        | 27 KB     | ##################################### | 100% \n",
      "toolz-0.10.0         | 46 KB     | ##################################### | 100% \n",
      "chardet-3.0.4        | 188 KB    | ##################################### | 100% \n",
      "ca-certificates-2020 | 145 KB    | ##################################### | 100% \n",
      "folium-0.5.0         | 45 KB     | ##################################### | 100% \n",
      "branca-0.4.1         | 26 KB     | ##################################### | 100% \n",
      "cryptography-2.9.2   | 613 KB    | ##################################### | 100% \n",
      "brotlipy-0.7.0       | 346 KB    | ##################################### | 100% \n",
      "altair-4.1.0         | 614 KB    | ##################################### | 100% \n",
      "requests-2.24.0      | 47 KB     | ##################################### | 100% \n",
      "pandas-1.0.5         | 10.1 MB   | ##################################### | 100% \n",
      "vincent-0.4.4        | 28 KB     | ##################################### | 100% \n",
      "Preparing transaction: done\n",
      "Verifying transaction: done\n",
      "Executing transaction: done\n",
      "Requirement already satisfied: urllib3 in /home/jupyterlab/conda/envs/python/lib/python3.6/site-packages (1.25.9)\n",
      "Requirement already satisfied: requests in /home/jupyterlab/conda/envs/python/lib/python3.6/site-packages (2.24.0)\n",
      "Requirement already satisfied: certifi>=2017.4.17 in /home/jupyterlab/conda/envs/python/lib/python3.6/site-packages (from requests) (2020.6.20)\n",
      "Requirement already satisfied: chardet<4,>=3.0.2 in /home/jupyterlab/conda/envs/python/lib/python3.6/site-packages (from requests) (3.0.4)\n",
      "Requirement already satisfied: urllib3!=1.25.0,!=1.25.1,<1.26,>=1.21.1 in /home/jupyterlab/conda/envs/python/lib/python3.6/site-packages (from requests) (1.25.9)\n",
      "Requirement already satisfied: idna<3,>=2.5 in /home/jupyterlab/conda/envs/python/lib/python3.6/site-packages (from requests) (2.10)\n",
      "Collecting geopy\n",
      "\u001b[?25l  Downloading https://files.pythonhosted.org/packages/07/e1/9c72de674d5c2b8fcb0738a5ceeb5424941fefa080bfe4e240d0bacb5a38/geopy-2.0.0-py3-none-any.whl (111kB)\n",
      "\u001b[K     |████████████████████████████████| 112kB 5.9MB/s eta 0:00:01\n",
      "\u001b[?25hCollecting geographiclib<2,>=1.49 (from geopy)\n",
      "  Downloading https://files.pythonhosted.org/packages/8b/62/26ec95a98ba64299163199e95ad1b0e34ad3f4e176e221c40245f211e425/geographiclib-1.50-py3-none-any.whl\n",
      "Installing collected packages: geographiclib, geopy\n",
      "Successfully installed geographiclib-1.50 geopy-2.0.0\n",
      "Collecting geocoder\n",
      "\u001b[?25l  Downloading https://files.pythonhosted.org/packages/4f/6b/13166c909ad2f2d76b929a4227c952630ebaf0d729f6317eb09cbceccbab/geocoder-1.38.1-py2.py3-none-any.whl (98kB)\n",
      "\u001b[K     |████████████████████████████████| 102kB 6.3MB/s ta 0:00:011\n",
      "\u001b[?25hCollecting click (from geocoder)\n",
      "\u001b[?25l  Downloading https://files.pythonhosted.org/packages/d2/3d/fa76db83bf75c4f8d338c2fd15c8d33fdd7ad23a9b5e57eb6c5de26b430e/click-7.1.2-py2.py3-none-any.whl (82kB)\n",
      "\u001b[K     |████████████████████████████████| 92kB 5.9MB/s  eta 0:00:01\n",
      "\u001b[?25hRequirement already satisfied: requests in /home/jupyterlab/conda/envs/python/lib/python3.6/site-packages (from geocoder) (2.24.0)\n",
      "Collecting ratelim (from geocoder)\n",
      "  Downloading https://files.pythonhosted.org/packages/f2/98/7e6d147fd16a10a5f821db6e25f192265d6ecca3d82957a4fdd592cad49c/ratelim-0.1.6-py2.py3-none-any.whl\n",
      "Collecting future (from geocoder)\n",
      "\u001b[?25l  Downloading https://files.pythonhosted.org/packages/45/0b/38b06fd9b92dc2b68d58b75f900e97884c45bedd2ff83203d933cf5851c9/future-0.18.2.tar.gz (829kB)\n",
      "\u001b[K     |████████████████████████████████| 829kB 26.9MB/s eta 0:00:01\n",
      "\u001b[?25hRequirement already satisfied: six in /home/jupyterlab/conda/envs/python/lib/python3.6/site-packages (from geocoder) (1.15.0)\n",
      "Requirement already satisfied: chardet<4,>=3.0.2 in /home/jupyterlab/conda/envs/python/lib/python3.6/site-packages (from requests->geocoder) (3.0.4)\n",
      "Requirement already satisfied: urllib3!=1.25.0,!=1.25.1,<1.26,>=1.21.1 in /home/jupyterlab/conda/envs/python/lib/python3.6/site-packages (from requests->geocoder) (1.25.9)\n",
      "Requirement already satisfied: certifi>=2017.4.17 in /home/jupyterlab/conda/envs/python/lib/python3.6/site-packages (from requests->geocoder) (2020.6.20)\n",
      "Requirement already satisfied: idna<3,>=2.5 in /home/jupyterlab/conda/envs/python/lib/python3.6/site-packages (from requests->geocoder) (2.10)\n",
      "Requirement already satisfied: decorator in /home/jupyterlab/conda/envs/python/lib/python3.6/site-packages (from ratelim->geocoder) (4.4.2)\n",
      "Building wheels for collected packages: future\n",
      "  Building wheel for future (setup.py) ... \u001b[?25ldone\n",
      "\u001b[?25h  Stored in directory: /home/jupyterlab/.cache/pip/wheels/8b/99/a0/81daf51dcd359a9377b110a8a886b3895921802d2fc1b2397e\n",
      "Successfully built future\n",
      "Installing collected packages: click, ratelim, future, geocoder\n",
      "Successfully installed click-7.1.2 future-0.18.2 geocoder-1.38.1 ratelim-0.1.6\n",
      "libraries are intalled and imported\n"
     ]
    }
   ],
   "source": [
    "import pandas as pd #library for data analysis\n",
    "import numpy as np # library for working with vectors\n",
    "import json # library to handle JSON files\n",
    "from pandas.io.json import json_normalize # tranform JSON file into a pandas dataframe\n",
    "from sklearn.cluster import KMeans # for clustering\n",
    "import matplotlib.cm as cm  #for better visualizing the results clusters by folium\n",
    "import matplotlib.colors as colors  #for better visualizing the results clusters by folium\n",
    "import matplotlib.pyplot as plt \n",
    "\n",
    "#installing beautifulsoup for website scraping \n",
    "!pip install beautifulsoup4\n",
    "!pip install lxml html5lib beautifulsoup4\n",
    "from bs4 import BeautifulSoup\n",
    "\n",
    "!conda install -c conda-forge folium=0.5.0 --yes #installing folium (if not installed already) - map rendering library \n",
    "import folium # map rendering library\n",
    "\n",
    "!pip install urllib3\n",
    "from urllib.request import urlopen # Opening a network object denoted by a URL for reading\n",
    "\n",
    "!pip install requests # to get url\n",
    "import requests # library to handle requests\n",
    "\n",
    "!pip install geopy \n",
    "from geopy.geocoders import Nominatim # a module to the lat and lng of a given address\n",
    "\n",
    "!pip install geocoder\n",
    "print('libraries are intalled and imported')"
   ]
  },
  {
   "cell_type": "markdown",
   "metadata": {},
   "source": [
    "## 1 - getting and preparing postal codes of Toronto"
   ]
  },
  {
   "cell_type": "code",
   "execution_count": 2,
   "metadata": {},
   "outputs": [],
   "source": [
    "def getHTMLContent(link):\n",
    "    html = urlopen(link)\n",
    "    soup = BeautifulSoup(html, 'html.parser')\n",
    "    return soup"
   ]
  },
  {
   "cell_type": "markdown",
   "metadata": {},
   "source": [
    "In the **getHTMLContent()** function, we pass in the URL. Here, we first open the url using the **urlopen** method. This enables us to apply **BeautifulSoup** library to get the HTML using a parser."
   ]
  },
  {
   "cell_type": "code",
   "execution_count": 3,
   "metadata": {},
   "outputs": [],
   "source": [
    "link = 'https://en.wikipedia.org/wiki/List_of_postal_codes_of_Canada:_M'\n",
    "content = getHTMLContent(link)\n",
    "tables = content.find_all('table')"
   ]
  },
  {
   "cell_type": "markdown",
   "metadata": {},
   "source": [
    "checking the content of tables, we find that our desired data is in the table -- class : 'wikitable sortable' -- "
   ]
  },
  {
   "cell_type": "code",
   "execution_count": 4,
   "metadata": {},
   "outputs": [],
   "source": [
    "table = content.find('table', {'class': 'wikitable sortable'})\n",
    "#table"
   ]
  },
  {
   "cell_type": "markdown",
   "metadata": {},
   "source": [
    "A table in HTML is comprised of rows denoted by the tags **tr** .  Each row has cells which can either be headings defined using <th></th> **th** or data defined using <td></td> **td**. we use them to get the data needed. "
   ]
  },
  {
   "cell_type": "markdown",
   "metadata": {},
   "source": [
    "we append the postal codes, boroughs and neighborhoods to three lists of A, B, C  respectively and then make a dataframe out of them."
   ]
  },
  {
   "cell_type": "code",
   "execution_count": 5,
   "metadata": {},
   "outputs": [],
   "source": [
    "A=[]\n",
    "B=[]\n",
    "C=[]\n",
    "\n",
    "for row in table.findAll('tr'):\n",
    "    cells = row.findAll('td')\n",
    "    if len(cells) ==3:\n",
    "        A.append(cells[0].find(text = True))\n",
    "        B.append(cells[1].find(text = True))\n",
    "        C.append(cells[2].find(text = True))\n"
   ]
  },
  {
   "cell_type": "code",
   "execution_count": 6,
   "metadata": {},
   "outputs": [
    {
     "data": {
      "text/html": [
       "<div>\n",
       "<style scoped>\n",
       "    .dataframe tbody tr th:only-of-type {\n",
       "        vertical-align: middle;\n",
       "    }\n",
       "\n",
       "    .dataframe tbody tr th {\n",
       "        vertical-align: top;\n",
       "    }\n",
       "\n",
       "    .dataframe thead th {\n",
       "        text-align: right;\n",
       "    }\n",
       "</style>\n",
       "<table border=\"1\" class=\"dataframe\">\n",
       "  <thead>\n",
       "    <tr style=\"text-align: right;\">\n",
       "      <th></th>\n",
       "      <th>PostalCode</th>\n",
       "      <th>Borough</th>\n",
       "      <th>Neighborhood</th>\n",
       "    </tr>\n",
       "  </thead>\n",
       "  <tbody>\n",
       "    <tr>\n",
       "      <th>0</th>\n",
       "      <td>M1A\\n</td>\n",
       "      <td>Not assigned\\n</td>\n",
       "      <td>Not assigned\\n</td>\n",
       "    </tr>\n",
       "    <tr>\n",
       "      <th>1</th>\n",
       "      <td>M2A\\n</td>\n",
       "      <td>Not assigned\\n</td>\n",
       "      <td>Not assigned\\n</td>\n",
       "    </tr>\n",
       "    <tr>\n",
       "      <th>2</th>\n",
       "      <td>M3A\\n</td>\n",
       "      <td>North York\\n</td>\n",
       "      <td>Parkwoods\\n</td>\n",
       "    </tr>\n",
       "    <tr>\n",
       "      <th>3</th>\n",
       "      <td>M4A\\n</td>\n",
       "      <td>North York\\n</td>\n",
       "      <td>Victoria Village\\n</td>\n",
       "    </tr>\n",
       "    <tr>\n",
       "      <th>4</th>\n",
       "      <td>M5A\\n</td>\n",
       "      <td>Downtown Toronto\\n</td>\n",
       "      <td>Regent Park, Harbourfront\\n</td>\n",
       "    </tr>\n",
       "    <tr>\n",
       "      <th>...</th>\n",
       "      <td>...</td>\n",
       "      <td>...</td>\n",
       "      <td>...</td>\n",
       "    </tr>\n",
       "    <tr>\n",
       "      <th>175</th>\n",
       "      <td>M5Z\\n</td>\n",
       "      <td>Not assigned\\n</td>\n",
       "      <td>Not assigned\\n</td>\n",
       "    </tr>\n",
       "    <tr>\n",
       "      <th>176</th>\n",
       "      <td>M6Z\\n</td>\n",
       "      <td>Not assigned\\n</td>\n",
       "      <td>Not assigned\\n</td>\n",
       "    </tr>\n",
       "    <tr>\n",
       "      <th>177</th>\n",
       "      <td>M7Z\\n</td>\n",
       "      <td>Not assigned\\n</td>\n",
       "      <td>Not assigned\\n</td>\n",
       "    </tr>\n",
       "    <tr>\n",
       "      <th>178</th>\n",
       "      <td>M8Z\\n</td>\n",
       "      <td>Etobicoke\\n</td>\n",
       "      <td>Mimico NW, The Queensway West, South of Bloor,...</td>\n",
       "    </tr>\n",
       "    <tr>\n",
       "      <th>179</th>\n",
       "      <td>M9Z\\n</td>\n",
       "      <td>Not assigned\\n</td>\n",
       "      <td>Not assigned\\n</td>\n",
       "    </tr>\n",
       "  </tbody>\n",
       "</table>\n",
       "<p>180 rows × 3 columns</p>\n",
       "</div>"
      ],
      "text/plain": [
       "    PostalCode             Borough  \\\n",
       "0        M1A\\n      Not assigned\\n   \n",
       "1        M2A\\n      Not assigned\\n   \n",
       "2        M3A\\n        North York\\n   \n",
       "3        M4A\\n        North York\\n   \n",
       "4        M5A\\n  Downtown Toronto\\n   \n",
       "..         ...                 ...   \n",
       "175      M5Z\\n      Not assigned\\n   \n",
       "176      M6Z\\n      Not assigned\\n   \n",
       "177      M7Z\\n      Not assigned\\n   \n",
       "178      M8Z\\n         Etobicoke\\n   \n",
       "179      M9Z\\n      Not assigned\\n   \n",
       "\n",
       "                                          Neighborhood  \n",
       "0                                       Not assigned\\n  \n",
       "1                                       Not assigned\\n  \n",
       "2                                          Parkwoods\\n  \n",
       "3                                   Victoria Village\\n  \n",
       "4                          Regent Park, Harbourfront\\n  \n",
       "..                                                 ...  \n",
       "175                                     Not assigned\\n  \n",
       "176                                     Not assigned\\n  \n",
       "177                                     Not assigned\\n  \n",
       "178  Mimico NW, The Queensway West, South of Bloor,...  \n",
       "179                                     Not assigned\\n  \n",
       "\n",
       "[180 rows x 3 columns]"
      ]
     },
     "execution_count": 6,
     "metadata": {},
     "output_type": "execute_result"
    }
   ],
   "source": [
    "df=pd.DataFrame(A,columns=['PostalCode'])\n",
    "df['Borough']=B\n",
    "df['Neighborhood']=C\n",
    "df"
   ]
  },
  {
   "cell_type": "markdown",
   "metadata": {},
   "source": [
    "### Cleaning the data:"
   ]
  },
  {
   "cell_type": "markdown",
   "metadata": {},
   "source": [
    "* removing the \"\\n\" form our dataframe items.\n",
    "* removing the rows where the boroughs are not assigned and reseting the index "
   ]
  },
  {
   "cell_type": "code",
   "execution_count": 7,
   "metadata": {},
   "outputs": [
    {
     "data": {
      "text/html": [
       "<div>\n",
       "<style scoped>\n",
       "    .dataframe tbody tr th:only-of-type {\n",
       "        vertical-align: middle;\n",
       "    }\n",
       "\n",
       "    .dataframe tbody tr th {\n",
       "        vertical-align: top;\n",
       "    }\n",
       "\n",
       "    .dataframe thead th {\n",
       "        text-align: right;\n",
       "    }\n",
       "</style>\n",
       "<table border=\"1\" class=\"dataframe\">\n",
       "  <thead>\n",
       "    <tr style=\"text-align: right;\">\n",
       "      <th></th>\n",
       "      <th>PostalCode</th>\n",
       "      <th>Borough</th>\n",
       "      <th>Neighborhood</th>\n",
       "    </tr>\n",
       "  </thead>\n",
       "  <tbody>\n",
       "    <tr>\n",
       "      <th>count</th>\n",
       "      <td>103</td>\n",
       "      <td>103</td>\n",
       "      <td>103</td>\n",
       "    </tr>\n",
       "    <tr>\n",
       "      <th>unique</th>\n",
       "      <td>103</td>\n",
       "      <td>10</td>\n",
       "      <td>99</td>\n",
       "    </tr>\n",
       "    <tr>\n",
       "      <th>top</th>\n",
       "      <td>M4G</td>\n",
       "      <td>North York</td>\n",
       "      <td>Downsview</td>\n",
       "    </tr>\n",
       "    <tr>\n",
       "      <th>freq</th>\n",
       "      <td>1</td>\n",
       "      <td>24</td>\n",
       "      <td>4</td>\n",
       "    </tr>\n",
       "  </tbody>\n",
       "</table>\n",
       "</div>"
      ],
      "text/plain": [
       "       PostalCode     Borough Neighborhood\n",
       "count         103         103          103\n",
       "unique        103          10           99\n",
       "top           M4G  North York    Downsview\n",
       "freq            1          24            4"
      ]
     },
     "execution_count": 7,
     "metadata": {},
     "output_type": "execute_result"
    }
   ],
   "source": [
    "df.replace(regex=['\\n'], value='', inplace = True)\n",
    "df2 = df[df['Borough']!= 'Not assigned']\n",
    "df2.reset_index(drop = True, inplace = True)\n",
    "df2.describe()"
   ]
  },
  {
   "cell_type": "markdown",
   "metadata": {},
   "source": [
    "checking whether there is any neighborhood which is not assigned"
   ]
  },
  {
   "cell_type": "code",
   "execution_count": 8,
   "metadata": {},
   "outputs": [
    {
     "data": {
      "text/html": [
       "<div>\n",
       "<style scoped>\n",
       "    .dataframe tbody tr th:only-of-type {\n",
       "        vertical-align: middle;\n",
       "    }\n",
       "\n",
       "    .dataframe tbody tr th {\n",
       "        vertical-align: top;\n",
       "    }\n",
       "\n",
       "    .dataframe thead th {\n",
       "        text-align: right;\n",
       "    }\n",
       "</style>\n",
       "<table border=\"1\" class=\"dataframe\">\n",
       "  <thead>\n",
       "    <tr style=\"text-align: right;\">\n",
       "      <th></th>\n",
       "      <th>PostalCode</th>\n",
       "      <th>Borough</th>\n",
       "      <th>Neighborhood</th>\n",
       "    </tr>\n",
       "  </thead>\n",
       "  <tbody>\n",
       "  </tbody>\n",
       "</table>\n",
       "</div>"
      ],
      "text/plain": [
       "Empty DataFrame\n",
       "Columns: [PostalCode, Borough, Neighborhood]\n",
       "Index: []"
      ]
     },
     "execution_count": 8,
     "metadata": {},
     "output_type": "execute_result"
    }
   ],
   "source": [
    "df2[df2['Neighborhood']=='Not assigned']"
   ]
  },
  {
   "cell_type": "markdown",
   "metadata": {},
   "source": [
    "We checked to know if there is any \"Not assigned\" value in the \"Neighborhood\" and there was none. in case there is there is \"Not assigned\" value, we can use the following codes to replace the \"Not assigned\" values the Borough in the same row. "
   ]
  },
  {
   "cell_type": "code",
   "execution_count": 9,
   "metadata": {},
   "outputs": [],
   "source": [
    "idx = df2.index[df2['Neighborhood']=='Not assigned']\n",
    "for index in idx:\n",
    "    df2[\"Neighborhood\"][index] = df[\"Borough\"][index]"
   ]
  },
  {
   "cell_type": "markdown",
   "metadata": {},
   "source": [
    "checking the shape of the dataframe"
   ]
  },
  {
   "cell_type": "code",
   "execution_count": 10,
   "metadata": {},
   "outputs": [
    {
     "data": {
      "text/plain": [
       "(103, 3)"
      ]
     },
     "execution_count": 10,
     "metadata": {},
     "output_type": "execute_result"
    }
   ],
   "source": [
    "df2.shape"
   ]
  },
  {
   "cell_type": "markdown",
   "metadata": {},
   "source": [
    "### 2- doanloading and reading the 'CSV' file containing the latitude and longitude of different postal codes in Toronto"
   ]
  },
  {
   "cell_type": "code",
   "execution_count": 11,
   "metadata": {},
   "outputs": [
    {
     "name": "stdout",
     "output_type": "stream",
     "text": [
      "Data downloaded!\n"
     ]
    }
   ],
   "source": [
    "!wget -q -O 'toronto_data.csv' http://cocl.us/Geospatial_data\n",
    "print('Data downloaded!')"
   ]
  },
  {
   "cell_type": "code",
   "execution_count": 13,
   "metadata": {},
   "outputs": [
    {
     "data": {
      "text/html": [
       "<div>\n",
       "<style scoped>\n",
       "    .dataframe tbody tr th:only-of-type {\n",
       "        vertical-align: middle;\n",
       "    }\n",
       "\n",
       "    .dataframe tbody tr th {\n",
       "        vertical-align: top;\n",
       "    }\n",
       "\n",
       "    .dataframe thead th {\n",
       "        text-align: right;\n",
       "    }\n",
       "</style>\n",
       "<table border=\"1\" class=\"dataframe\">\n",
       "  <thead>\n",
       "    <tr style=\"text-align: right;\">\n",
       "      <th></th>\n",
       "      <th>PostalCode</th>\n",
       "      <th>Latitude</th>\n",
       "      <th>Longitude</th>\n",
       "    </tr>\n",
       "  </thead>\n",
       "  <tbody>\n",
       "    <tr>\n",
       "      <th>0</th>\n",
       "      <td>M1B</td>\n",
       "      <td>43.806686</td>\n",
       "      <td>-79.194353</td>\n",
       "    </tr>\n",
       "    <tr>\n",
       "      <th>1</th>\n",
       "      <td>M1C</td>\n",
       "      <td>43.784535</td>\n",
       "      <td>-79.160497</td>\n",
       "    </tr>\n",
       "    <tr>\n",
       "      <th>2</th>\n",
       "      <td>M1E</td>\n",
       "      <td>43.763573</td>\n",
       "      <td>-79.188711</td>\n",
       "    </tr>\n",
       "    <tr>\n",
       "      <th>3</th>\n",
       "      <td>M1G</td>\n",
       "      <td>43.770992</td>\n",
       "      <td>-79.216917</td>\n",
       "    </tr>\n",
       "    <tr>\n",
       "      <th>4</th>\n",
       "      <td>M1H</td>\n",
       "      <td>43.773136</td>\n",
       "      <td>-79.239476</td>\n",
       "    </tr>\n",
       "  </tbody>\n",
       "</table>\n",
       "</div>"
      ],
      "text/plain": [
       "  PostalCode   Latitude  Longitude\n",
       "0        M1B  43.806686 -79.194353\n",
       "1        M1C  43.784535 -79.160497\n",
       "2        M1E  43.763573 -79.188711\n",
       "3        M1G  43.770992 -79.216917\n",
       "4        M1H  43.773136 -79.239476"
      ]
     },
     "execution_count": 13,
     "metadata": {},
     "output_type": "execute_result"
    }
   ],
   "source": [
    "toronto_data = pd.read_csv('toronto_data.csv')\n",
    "toronto_data.rename(columns ={'Postal Code':'PostalCode'}, inplace = True)\n",
    "toronto_data.head()"
   ]
  },
  {
   "cell_type": "code",
   "execution_count": 14,
   "metadata": {},
   "outputs": [
    {
     "name": "stdout",
     "output_type": "stream",
     "text": [
      "<class 'pandas.core.frame.DataFrame'>\n",
      "RangeIndex: 103 entries, 0 to 102\n",
      "Data columns (total 3 columns):\n",
      " #   Column      Non-Null Count  Dtype  \n",
      "---  ------      --------------  -----  \n",
      " 0   PostalCode  103 non-null    object \n",
      " 1   Latitude    103 non-null    float64\n",
      " 2   Longitude   103 non-null    float64\n",
      "dtypes: float64(2), object(1)\n",
      "memory usage: 2.5+ KB\n"
     ]
    }
   ],
   "source": [
    "toronto_data.info()"
   ]
  },
  {
   "cell_type": "markdown",
   "metadata": {},
   "source": [
    " ## 3- merging the two dataframes"
   ]
  },
  {
   "cell_type": "code",
   "execution_count": 15,
   "metadata": {},
   "outputs": [
    {
     "data": {
      "text/html": [
       "<div>\n",
       "<style scoped>\n",
       "    .dataframe tbody tr th:only-of-type {\n",
       "        vertical-align: middle;\n",
       "    }\n",
       "\n",
       "    .dataframe tbody tr th {\n",
       "        vertical-align: top;\n",
       "    }\n",
       "\n",
       "    .dataframe thead th {\n",
       "        text-align: right;\n",
       "    }\n",
       "</style>\n",
       "<table border=\"1\" class=\"dataframe\">\n",
       "  <thead>\n",
       "    <tr style=\"text-align: right;\">\n",
       "      <th></th>\n",
       "      <th>PostalCode</th>\n",
       "      <th>Borough</th>\n",
       "      <th>Neighborhood</th>\n",
       "      <th>Latitude</th>\n",
       "      <th>Longitude</th>\n",
       "    </tr>\n",
       "  </thead>\n",
       "  <tbody>\n",
       "    <tr>\n",
       "      <th>0</th>\n",
       "      <td>M3A</td>\n",
       "      <td>North York</td>\n",
       "      <td>Parkwoods</td>\n",
       "      <td>43.753259</td>\n",
       "      <td>-79.329656</td>\n",
       "    </tr>\n",
       "    <tr>\n",
       "      <th>1</th>\n",
       "      <td>M4A</td>\n",
       "      <td>North York</td>\n",
       "      <td>Victoria Village</td>\n",
       "      <td>43.725882</td>\n",
       "      <td>-79.315572</td>\n",
       "    </tr>\n",
       "    <tr>\n",
       "      <th>2</th>\n",
       "      <td>M5A</td>\n",
       "      <td>Downtown Toronto</td>\n",
       "      <td>Regent Park, Harbourfront</td>\n",
       "      <td>43.654260</td>\n",
       "      <td>-79.360636</td>\n",
       "    </tr>\n",
       "    <tr>\n",
       "      <th>3</th>\n",
       "      <td>M6A</td>\n",
       "      <td>North York</td>\n",
       "      <td>Lawrence Manor, Lawrence Heights</td>\n",
       "      <td>43.718518</td>\n",
       "      <td>-79.464763</td>\n",
       "    </tr>\n",
       "    <tr>\n",
       "      <th>4</th>\n",
       "      <td>M7A</td>\n",
       "      <td>Downtown Toronto</td>\n",
       "      <td>Queen's Park, Ontario Provincial Government</td>\n",
       "      <td>43.662301</td>\n",
       "      <td>-79.389494</td>\n",
       "    </tr>\n",
       "    <tr>\n",
       "      <th>...</th>\n",
       "      <td>...</td>\n",
       "      <td>...</td>\n",
       "      <td>...</td>\n",
       "      <td>...</td>\n",
       "      <td>...</td>\n",
       "    </tr>\n",
       "    <tr>\n",
       "      <th>98</th>\n",
       "      <td>M8X</td>\n",
       "      <td>Etobicoke</td>\n",
       "      <td>The Kingsway, Montgomery Road, Old Mill North</td>\n",
       "      <td>43.653654</td>\n",
       "      <td>-79.506944</td>\n",
       "    </tr>\n",
       "    <tr>\n",
       "      <th>99</th>\n",
       "      <td>M4Y</td>\n",
       "      <td>Downtown Toronto</td>\n",
       "      <td>Church and Wellesley</td>\n",
       "      <td>43.665860</td>\n",
       "      <td>-79.383160</td>\n",
       "    </tr>\n",
       "    <tr>\n",
       "      <th>100</th>\n",
       "      <td>M7Y</td>\n",
       "      <td>East Toronto</td>\n",
       "      <td>Business reply mail Processing Centre, South C...</td>\n",
       "      <td>43.662744</td>\n",
       "      <td>-79.321558</td>\n",
       "    </tr>\n",
       "    <tr>\n",
       "      <th>101</th>\n",
       "      <td>M8Y</td>\n",
       "      <td>Etobicoke</td>\n",
       "      <td>Old Mill South, King's Mill Park, Sunnylea, Hu...</td>\n",
       "      <td>43.636258</td>\n",
       "      <td>-79.498509</td>\n",
       "    </tr>\n",
       "    <tr>\n",
       "      <th>102</th>\n",
       "      <td>M8Z</td>\n",
       "      <td>Etobicoke</td>\n",
       "      <td>Mimico NW, The Queensway West, South of Bloor,...</td>\n",
       "      <td>43.628841</td>\n",
       "      <td>-79.520999</td>\n",
       "    </tr>\n",
       "  </tbody>\n",
       "</table>\n",
       "<p>103 rows × 5 columns</p>\n",
       "</div>"
      ],
      "text/plain": [
       "    PostalCode           Borough  \\\n",
       "0          M3A        North York   \n",
       "1          M4A        North York   \n",
       "2          M5A  Downtown Toronto   \n",
       "3          M6A        North York   \n",
       "4          M7A  Downtown Toronto   \n",
       "..         ...               ...   \n",
       "98         M8X         Etobicoke   \n",
       "99         M4Y  Downtown Toronto   \n",
       "100        M7Y      East Toronto   \n",
       "101        M8Y         Etobicoke   \n",
       "102        M8Z         Etobicoke   \n",
       "\n",
       "                                          Neighborhood   Latitude  Longitude  \n",
       "0                                            Parkwoods  43.753259 -79.329656  \n",
       "1                                     Victoria Village  43.725882 -79.315572  \n",
       "2                            Regent Park, Harbourfront  43.654260 -79.360636  \n",
       "3                     Lawrence Manor, Lawrence Heights  43.718518 -79.464763  \n",
       "4          Queen's Park, Ontario Provincial Government  43.662301 -79.389494  \n",
       "..                                                 ...        ...        ...  \n",
       "98       The Kingsway, Montgomery Road, Old Mill North  43.653654 -79.506944  \n",
       "99                                Church and Wellesley  43.665860 -79.383160  \n",
       "100  Business reply mail Processing Centre, South C...  43.662744 -79.321558  \n",
       "101  Old Mill South, King's Mill Park, Sunnylea, Hu...  43.636258 -79.498509  \n",
       "102  Mimico NW, The Queensway West, South of Bloor,...  43.628841 -79.520999  \n",
       "\n",
       "[103 rows x 5 columns]"
      ]
     },
     "execution_count": 15,
     "metadata": {},
     "output_type": "execute_result"
    }
   ],
   "source": [
    "Toronto = pd.merge(df2, toronto_data, left_on='PostalCode', right_on='PostalCode')\n",
    "Toronto"
   ]
  },
  {
   "cell_type": "code",
   "execution_count": 16,
   "metadata": {},
   "outputs": [
    {
     "name": "stdout",
     "output_type": "stream",
     "text": [
      "<class 'pandas.core.frame.DataFrame'>\n",
      "Int64Index: 103 entries, 0 to 102\n",
      "Data columns (total 5 columns):\n",
      " #   Column        Non-Null Count  Dtype  \n",
      "---  ------        --------------  -----  \n",
      " 0   PostalCode    103 non-null    object \n",
      " 1   Borough       103 non-null    object \n",
      " 2   Neighborhood  103 non-null    object \n",
      " 3   Latitude      103 non-null    float64\n",
      " 4   Longitude     103 non-null    float64\n",
      "dtypes: float64(2), object(3)\n",
      "memory usage: 4.8+ KB\n"
     ]
    }
   ],
   "source": [
    "Toronto.info()"
   ]
  },
  {
   "cell_type": "markdown",
   "metadata": {},
   "source": [
    "### 4- population and household average income of Toronto neighborhoods "
   ]
  },
  {
   "cell_type": "markdown",
   "metadata": {},
   "source": [
    "Getting the household **median** and **average income** and also **population** of neighborhoods defined by the postal codes included in our dataframe\n",
    "\n",
    "**Note** : As we are going to study the target population for attending the gym, we get the population with the **age** between **15 and 64**."
   ]
  },
  {
   "cell_type": "markdown",
   "metadata": {},
   "source": [
    "First, we make a list of Postal Codes that are in our collected data."
   ]
  },
  {
   "cell_type": "code",
   "execution_count": 17,
   "metadata": {},
   "outputs": [],
   "source": [
    "postal_code_list = Toronto['PostalCode']\n",
    "postal_code_list = postal_code_list.tolist()"
   ]
  },
  {
   "cell_type": "code",
   "execution_count": 18,
   "metadata": {},
   "outputs": [
    {
     "data": {
      "text/plain": [
       "['M3A', 'M4A', 'M5A', 'M6A', 'M7A', 'M9A', 'M1B', 'M3B', 'M4B', 'M5B']"
      ]
     },
     "execution_count": 18,
     "metadata": {},
     "output_type": "execute_result"
    }
   ],
   "source": [
    "postal_code_list[0:10]"
   ]
  },
  {
   "cell_type": "markdown",
   "metadata": {},
   "source": [
    "Getting the desired information from **www12.statcan.gc.ca** for our Postal Codes of Toronto"
   ]
  },
  {
   "cell_type": "code",
   "execution_count": 19,
   "metadata": {},
   "outputs": [
    {
     "name": "stdout",
     "output_type": "stream",
     "text": [
      "populations for selected postal_codes are (sample):  ['23,575', '9,405', '32,905', '13,490', 'x', '24,065', '45,135', '8,235', '12,840', '11,085']\n",
      "median incomes for selected postal_codes are (sample):  ['57,698', '49,453', '46,938', '49,060', 'x', '65,760', '62,789', '90,841', '54,234', '45,227']\n",
      "average incomes for selected postal_codes are (sample) :  ['71,966', '60,491', '63,542', '62,881', 'x', '117,148', '70,929', '137,613', '71,178', '57,454']\n"
     ]
    }
   ],
   "source": [
    "pop_2016 =[] # getting the population with the age between 15 and 64\n",
    "med_income =[] # median income of househols\n",
    "avg_income =[] # average income of households\n",
    "for i in postal_code_list:\n",
    "    link_i = 'https://www12.statcan.gc.ca/census-recensement/2016/dp-pd/prof/details/page.cfm?Lang=E&Geo1=FSA&Code1={}&Geo2=PR&Code2=01&SearchText={}&SearchType=Begins&SearchPR=01&B1=All&TABID=2&type=0#fnb12'.format(i,i)\n",
    "    content = getHTMLContent(link_i)\n",
    "    #tables = content.find_all('table')\n",
    "    table = content.find('table', {'class': 'table table-condensed table-hover'})\n",
    "    \n",
    "    pop_2016_i = table.find('td', attrs= {'class':\"text-top text-right\", 'headers':\"L2005 geo1 total1\"})\n",
    "    try:\n",
    "        pop_2016_i= pop_2016_i.text.strip()\n",
    "    except:\n",
    "        pop_2016_i = np.nan\n",
    "    \n",
    "    med_income_i = table.find('td', attrs= {'class':\"text-top text-right\", 'headers':\"L13002 geo1 total1\"})\n",
    "    try:\n",
    "        med_income_i= med_income_i.text.strip()\n",
    "    except:\n",
    "        med_income_i = np.nan\n",
    "    \n",
    "    avg_income_i = table.find('td', attrs= {'class':\"text-top text-right\", 'headers':\"L13011 geo1 total1\"})\n",
    "    try:\n",
    "        avg_income_i= avg_income_i.text.strip()\n",
    "    except:\n",
    "        avg_income_i = np.nan\n",
    "    \n",
    "    pop_2016.append(pop_2016_i)\n",
    "    med_income.append(med_income_i)\n",
    "    avg_income.append(avg_income_i)\n",
    "    \n",
    "print('populations for selected postal_codes are (sample): ', pop_2016[0:10] )\n",
    "print('median incomes for selected postal_codes are (sample): ', med_income[0:10] )\n",
    "print('average incomes for selected postal_codes are (sample) : ', avg_income[0:10] )\n"
   ]
  },
  {
   "cell_type": "markdown",
   "metadata": {},
   "source": [
    "Making a dataframe out of the collected data"
   ]
  },
  {
   "cell_type": "code",
   "execution_count": 20,
   "metadata": {},
   "outputs": [
    {
     "data": {
      "text/html": [
       "<div>\n",
       "<style scoped>\n",
       "    .dataframe tbody tr th:only-of-type {\n",
       "        vertical-align: middle;\n",
       "    }\n",
       "\n",
       "    .dataframe tbody tr th {\n",
       "        vertical-align: top;\n",
       "    }\n",
       "\n",
       "    .dataframe thead th {\n",
       "        text-align: right;\n",
       "    }\n",
       "</style>\n",
       "<table border=\"1\" class=\"dataframe\">\n",
       "  <thead>\n",
       "    <tr style=\"text-align: right;\">\n",
       "      <th></th>\n",
       "      <th>PostalCode</th>\n",
       "      <th>Population</th>\n",
       "      <th>Median_income</th>\n",
       "      <th>Average_income</th>\n",
       "    </tr>\n",
       "  </thead>\n",
       "  <tbody>\n",
       "    <tr>\n",
       "      <th>0</th>\n",
       "      <td>M3A</td>\n",
       "      <td>23,575</td>\n",
       "      <td>57,698</td>\n",
       "      <td>71,966</td>\n",
       "    </tr>\n",
       "    <tr>\n",
       "      <th>1</th>\n",
       "      <td>M4A</td>\n",
       "      <td>9,405</td>\n",
       "      <td>49,453</td>\n",
       "      <td>60,491</td>\n",
       "    </tr>\n",
       "    <tr>\n",
       "      <th>2</th>\n",
       "      <td>M5A</td>\n",
       "      <td>32,905</td>\n",
       "      <td>46,938</td>\n",
       "      <td>63,542</td>\n",
       "    </tr>\n",
       "    <tr>\n",
       "      <th>3</th>\n",
       "      <td>M6A</td>\n",
       "      <td>13,490</td>\n",
       "      <td>49,060</td>\n",
       "      <td>62,881</td>\n",
       "    </tr>\n",
       "    <tr>\n",
       "      <th>4</th>\n",
       "      <td>M7A</td>\n",
       "      <td>x</td>\n",
       "      <td>x</td>\n",
       "      <td>x</td>\n",
       "    </tr>\n",
       "  </tbody>\n",
       "</table>\n",
       "</div>"
      ],
      "text/plain": [
       "  PostalCode Population Median_income Average_income\n",
       "0        M3A     23,575        57,698         71,966\n",
       "1        M4A      9,405        49,453         60,491\n",
       "2        M5A     32,905        46,938         63,542\n",
       "3        M6A     13,490        49,060         62,881\n",
       "4        M7A          x             x              x"
      ]
     },
     "execution_count": 20,
     "metadata": {},
     "output_type": "execute_result"
    }
   ],
   "source": [
    "data = [postal_code_list]\n",
    "data = np.array(data)\n",
    "data = data.T\n",
    "df_n = pd.DataFrame(data, columns = ['PostalCode'])\n",
    "df_n['Population'] = pop_2016\n",
    "df_n['Median_income'] = med_income\n",
    "df_n['Average_income'] = avg_income\n",
    "df_n.head()"
   ]
  },
  {
   "cell_type": "markdown",
   "metadata": {},
   "source": [
    "Checking the data and cleaning it."
   ]
  },
  {
   "cell_type": "code",
   "execution_count": 22,
   "metadata": {},
   "outputs": [
    {
     "name": "stdout",
     "output_type": "stream",
     "text": [
      "<class 'pandas.core.frame.DataFrame'>\n",
      "RangeIndex: 103 entries, 0 to 102\n",
      "Data columns (total 4 columns):\n",
      " #   Column          Non-Null Count  Dtype \n",
      "---  ------          --------------  ----- \n",
      " 0   PostalCode      103 non-null    object\n",
      " 1   Population      102 non-null    object\n",
      " 2   Median_income   102 non-null    object\n",
      " 3   Average_income  102 non-null    object\n",
      "dtypes: object(4)\n",
      "memory usage: 3.3+ KB\n"
     ]
    }
   ],
   "source": [
    "df_n.info()"
   ]
  },
  {
   "cell_type": "code",
   "execution_count": 23,
   "metadata": {},
   "outputs": [
    {
     "data": {
      "text/html": [
       "<div>\n",
       "<style scoped>\n",
       "    .dataframe tbody tr th:only-of-type {\n",
       "        vertical-align: middle;\n",
       "    }\n",
       "\n",
       "    .dataframe tbody tr th {\n",
       "        vertical-align: top;\n",
       "    }\n",
       "\n",
       "    .dataframe thead th {\n",
       "        text-align: right;\n",
       "    }\n",
       "</style>\n",
       "<table border=\"1\" class=\"dataframe\">\n",
       "  <thead>\n",
       "    <tr style=\"text-align: right;\">\n",
       "      <th></th>\n",
       "      <th>PostalCode</th>\n",
       "      <th>Population</th>\n",
       "      <th>Median_income</th>\n",
       "      <th>Average_income</th>\n",
       "    </tr>\n",
       "  </thead>\n",
       "  <tbody>\n",
       "    <tr>\n",
       "      <th>count</th>\n",
       "      <td>103</td>\n",
       "      <td>102</td>\n",
       "      <td>102</td>\n",
       "      <td>102</td>\n",
       "    </tr>\n",
       "    <tr>\n",
       "      <th>unique</th>\n",
       "      <td>103</td>\n",
       "      <td>96</td>\n",
       "      <td>97</td>\n",
       "      <td>97</td>\n",
       "    </tr>\n",
       "    <tr>\n",
       "      <th>top</th>\n",
       "      <td>M4G</td>\n",
       "      <td>x</td>\n",
       "      <td>x</td>\n",
       "      <td>x</td>\n",
       "    </tr>\n",
       "    <tr>\n",
       "      <th>freq</th>\n",
       "      <td>1</td>\n",
       "      <td>6</td>\n",
       "      <td>6</td>\n",
       "      <td>6</td>\n",
       "    </tr>\n",
       "  </tbody>\n",
       "</table>\n",
       "</div>"
      ],
      "text/plain": [
       "       PostalCode Population Median_income Average_income\n",
       "count         103        102           102            102\n",
       "unique        103         96            97             97\n",
       "top           M4G          x             x              x\n",
       "freq            1          6             6              6"
      ]
     },
     "execution_count": 23,
     "metadata": {},
     "output_type": "execute_result"
    }
   ],
   "source": [
    "df_n.describe()"
   ]
  },
  {
   "cell_type": "markdown",
   "metadata": {},
   "source": [
    "the data types are all objects and we have missing values. \n",
    "first, we change the data types and use *errors=coerce* to return *NaN* for values that are missing or have values other than numbers and can not be changed to int"
   ]
  },
  {
   "cell_type": "code",
   "execution_count": 24,
   "metadata": {},
   "outputs": [
    {
     "data": {
      "text/html": [
       "<div>\n",
       "<style scoped>\n",
       "    .dataframe tbody tr th:only-of-type {\n",
       "        vertical-align: middle;\n",
       "    }\n",
       "\n",
       "    .dataframe tbody tr th {\n",
       "        vertical-align: top;\n",
       "    }\n",
       "\n",
       "    .dataframe thead th {\n",
       "        text-align: right;\n",
       "    }\n",
       "</style>\n",
       "<table border=\"1\" class=\"dataframe\">\n",
       "  <thead>\n",
       "    <tr style=\"text-align: right;\">\n",
       "      <th></th>\n",
       "      <th>PostalCode</th>\n",
       "      <th>Population</th>\n",
       "      <th>Median_income</th>\n",
       "      <th>Average_income</th>\n",
       "    </tr>\n",
       "  </thead>\n",
       "  <tbody>\n",
       "    <tr>\n",
       "      <th>0</th>\n",
       "      <td>M3A</td>\n",
       "      <td>23575.0</td>\n",
       "      <td>57698.0</td>\n",
       "      <td>71966.0</td>\n",
       "    </tr>\n",
       "    <tr>\n",
       "      <th>1</th>\n",
       "      <td>M4A</td>\n",
       "      <td>9405.0</td>\n",
       "      <td>49453.0</td>\n",
       "      <td>60491.0</td>\n",
       "    </tr>\n",
       "    <tr>\n",
       "      <th>2</th>\n",
       "      <td>M5A</td>\n",
       "      <td>32905.0</td>\n",
       "      <td>46938.0</td>\n",
       "      <td>63542.0</td>\n",
       "    </tr>\n",
       "    <tr>\n",
       "      <th>3</th>\n",
       "      <td>M6A</td>\n",
       "      <td>13490.0</td>\n",
       "      <td>49060.0</td>\n",
       "      <td>62881.0</td>\n",
       "    </tr>\n",
       "    <tr>\n",
       "      <th>4</th>\n",
       "      <td>M7A</td>\n",
       "      <td>NaN</td>\n",
       "      <td>NaN</td>\n",
       "      <td>NaN</td>\n",
       "    </tr>\n",
       "  </tbody>\n",
       "</table>\n",
       "</div>"
      ],
      "text/plain": [
       "  PostalCode  Population  Median_income  Average_income\n",
       "0        M3A     23575.0        57698.0         71966.0\n",
       "1        M4A      9405.0        49453.0         60491.0\n",
       "2        M5A     32905.0        46938.0         63542.0\n",
       "3        M6A     13490.0        49060.0         62881.0\n",
       "4        M7A         NaN            NaN             NaN"
      ]
     },
     "execution_count": 24,
     "metadata": {},
     "output_type": "execute_result"
    }
   ],
   "source": [
    "df_n.replace(regex=[','], value='', inplace = True)\n",
    "df_n['Population'] = pd.to_numeric(df_n['Population'], errors = 'coerce' )\n",
    "df_n['Median_income'] = pd.to_numeric(df_n['Median_income'], errors = 'coerce' )\n",
    "df_n['Average_income'] = pd.to_numeric(df_n['Average_income'], errors = 'coerce' )\n",
    "df_n.head()"
   ]
  },
  {
   "cell_type": "code",
   "execution_count": 25,
   "metadata": {},
   "outputs": [
    {
     "name": "stdout",
     "output_type": "stream",
     "text": [
      "<class 'pandas.core.frame.DataFrame'>\n",
      "RangeIndex: 103 entries, 0 to 102\n",
      "Data columns (total 4 columns):\n",
      " #   Column          Non-Null Count  Dtype  \n",
      "---  ------          --------------  -----  \n",
      " 0   PostalCode      103 non-null    object \n",
      " 1   Population      96 non-null     float64\n",
      " 2   Median_income   96 non-null     float64\n",
      " 3   Average_income  96 non-null     float64\n",
      "dtypes: float64(3), object(1)\n",
      "memory usage: 3.3+ KB\n"
     ]
    }
   ],
   "source": [
    "df_n.info()"
   ]
  },
  {
   "cell_type": "markdown",
   "metadata": {},
   "source": [
    "deleting rows with *NaN* values"
   ]
  },
  {
   "cell_type": "code",
   "execution_count": 26,
   "metadata": {},
   "outputs": [
    {
     "name": "stdout",
     "output_type": "stream",
     "text": [
      "<class 'pandas.core.frame.DataFrame'>\n",
      "Int64Index: 96 entries, 0 to 102\n",
      "Data columns (total 4 columns):\n",
      " #   Column          Non-Null Count  Dtype  \n",
      "---  ------          --------------  -----  \n",
      " 0   PostalCode      96 non-null     object \n",
      " 1   Population      96 non-null     float64\n",
      " 2   Median_income   96 non-null     float64\n",
      " 3   Average_income  96 non-null     float64\n",
      "dtypes: float64(3), object(1)\n",
      "memory usage: 3.8+ KB\n"
     ]
    }
   ],
   "source": [
    "df_n.dropna(how ='any', inplace = True)\n",
    "df_n.info()"
   ]
  },
  {
   "cell_type": "code",
   "execution_count": 27,
   "metadata": {},
   "outputs": [
    {
     "data": {
      "text/html": [
       "<div>\n",
       "<style scoped>\n",
       "    .dataframe tbody tr th:only-of-type {\n",
       "        vertical-align: middle;\n",
       "    }\n",
       "\n",
       "    .dataframe tbody tr th {\n",
       "        vertical-align: top;\n",
       "    }\n",
       "\n",
       "    .dataframe thead th {\n",
       "        text-align: right;\n",
       "    }\n",
       "</style>\n",
       "<table border=\"1\" class=\"dataframe\">\n",
       "  <thead>\n",
       "    <tr style=\"text-align: right;\">\n",
       "      <th></th>\n",
       "      <th>Population</th>\n",
       "      <th>Median_income</th>\n",
       "      <th>Average_income</th>\n",
       "    </tr>\n",
       "  </thead>\n",
       "  <tbody>\n",
       "    <tr>\n",
       "      <th>count</th>\n",
       "      <td>96.000000</td>\n",
       "      <td>96.000000</td>\n",
       "      <td>96.000000</td>\n",
       "    </tr>\n",
       "    <tr>\n",
       "      <th>mean</th>\n",
       "      <td>19863.489583</td>\n",
       "      <td>62295.760417</td>\n",
       "      <td>88925.020833</td>\n",
       "    </tr>\n",
       "    <tr>\n",
       "      <th>std</th>\n",
       "      <td>10075.901661</td>\n",
       "      <td>14802.568766</td>\n",
       "      <td>41918.062375</td>\n",
       "    </tr>\n",
       "    <tr>\n",
       "      <th>min</th>\n",
       "      <td>1835.000000</td>\n",
       "      <td>37555.000000</td>\n",
       "      <td>47960.000000</td>\n",
       "    </tr>\n",
       "    <tr>\n",
       "      <th>25%</th>\n",
       "      <td>12486.250000</td>\n",
       "      <td>51676.250000</td>\n",
       "      <td>63854.000000</td>\n",
       "    </tr>\n",
       "    <tr>\n",
       "      <th>50%</th>\n",
       "      <td>18367.500000</td>\n",
       "      <td>59285.500000</td>\n",
       "      <td>73658.500000</td>\n",
       "    </tr>\n",
       "    <tr>\n",
       "      <th>75%</th>\n",
       "      <td>25522.500000</td>\n",
       "      <td>68231.500000</td>\n",
       "      <td>91718.250000</td>\n",
       "    </tr>\n",
       "    <tr>\n",
       "      <th>max</th>\n",
       "      <td>56475.000000</td>\n",
       "      <td>111821.000000</td>\n",
       "      <td>263796.000000</td>\n",
       "    </tr>\n",
       "  </tbody>\n",
       "</table>\n",
       "</div>"
      ],
      "text/plain": [
       "         Population  Median_income  Average_income\n",
       "count     96.000000      96.000000       96.000000\n",
       "mean   19863.489583   62295.760417    88925.020833\n",
       "std    10075.901661   14802.568766    41918.062375\n",
       "min     1835.000000   37555.000000    47960.000000\n",
       "25%    12486.250000   51676.250000    63854.000000\n",
       "50%    18367.500000   59285.500000    73658.500000\n",
       "75%    25522.500000   68231.500000    91718.250000\n",
       "max    56475.000000  111821.000000   263796.000000"
      ]
     },
     "execution_count": 27,
     "metadata": {},
     "output_type": "execute_result"
    }
   ],
   "source": [
    "df_n.describe()"
   ]
  },
  {
   "cell_type": "markdown",
   "metadata": {},
   "source": [
    "we got both household median and average incomes because sometimes due to some outliers, average is not a good representative. checking the data, it seems that there is a reasonable relation between median and average. therefore, we want to check more to know whether we can rely only on average or not. "
   ]
  },
  {
   "cell_type": "code",
   "execution_count": 28,
   "metadata": {},
   "outputs": [
    {
     "data": {
      "image/png": "[encoded data removed]",
      "text/plain": [
       "<Figure size 432x288 with 1 Axes>"
      ]
     },
     "metadata": {
      "needs_background": "light"
     },
     "output_type": "display_data"
    }
   ],
   "source": [
    "plt.scatter(df_n['Median_income'], df_n['Average_income'])\n",
    "plt.xlabel('Median_income')\n",
    "plt.ylabel('Average_income')\n",
    "plt.show()"
   ]
  },
  {
   "cell_type": "code",
   "execution_count": 29,
   "metadata": {},
   "outputs": [
    {
     "data": {
      "text/plain": [
       "0.8366659304714593"
      ]
     },
     "execution_count": 29,
     "metadata": {},
     "output_type": "execute_result"
    }
   ],
   "source": [
    "df_n['Median_income'].corr(df_n['Average_income'])"
   ]
  },
  {
   "cell_type": "markdown",
   "metadata": {},
   "source": [
    "the scatter plot and also the correlation between median and average shows that we can delete the median and continue our study based on the average of household income."
   ]
  },
  {
   "cell_type": "code",
   "execution_count": 30,
   "metadata": {},
   "outputs": [
    {
     "data": {
      "text/html": [
       "<div>\n",
       "<style scoped>\n",
       "    .dataframe tbody tr th:only-of-type {\n",
       "        vertical-align: middle;\n",
       "    }\n",
       "\n",
       "    .dataframe tbody tr th {\n",
       "        vertical-align: top;\n",
       "    }\n",
       "\n",
       "    .dataframe thead th {\n",
       "        text-align: right;\n",
       "    }\n",
       "</style>\n",
       "<table border=\"1\" class=\"dataframe\">\n",
       "  <thead>\n",
       "    <tr style=\"text-align: right;\">\n",
       "      <th></th>\n",
       "      <th>PostalCode</th>\n",
       "      <th>Population</th>\n",
       "      <th>Average_income</th>\n",
       "    </tr>\n",
       "  </thead>\n",
       "  <tbody>\n",
       "    <tr>\n",
       "      <th>0</th>\n",
       "      <td>M3A</td>\n",
       "      <td>23575.0</td>\n",
       "      <td>71966.0</td>\n",
       "    </tr>\n",
       "    <tr>\n",
       "      <th>1</th>\n",
       "      <td>M4A</td>\n",
       "      <td>9405.0</td>\n",
       "      <td>60491.0</td>\n",
       "    </tr>\n",
       "    <tr>\n",
       "      <th>2</th>\n",
       "      <td>M5A</td>\n",
       "      <td>32905.0</td>\n",
       "      <td>63542.0</td>\n",
       "    </tr>\n",
       "    <tr>\n",
       "      <th>3</th>\n",
       "      <td>M6A</td>\n",
       "      <td>13490.0</td>\n",
       "      <td>62881.0</td>\n",
       "    </tr>\n",
       "    <tr>\n",
       "      <th>5</th>\n",
       "      <td>M9A</td>\n",
       "      <td>24065.0</td>\n",
       "      <td>117148.0</td>\n",
       "    </tr>\n",
       "  </tbody>\n",
       "</table>\n",
       "</div>"
      ],
      "text/plain": [
       "  PostalCode  Population  Average_income\n",
       "0        M3A     23575.0         71966.0\n",
       "1        M4A      9405.0         60491.0\n",
       "2        M5A     32905.0         63542.0\n",
       "3        M6A     13490.0         62881.0\n",
       "5        M9A     24065.0        117148.0"
      ]
     },
     "execution_count": 30,
     "metadata": {},
     "output_type": "execute_result"
    }
   ],
   "source": [
    "df_n = df_n.drop(['Median_income'], axis = 1)\n",
    "df_n.head()"
   ]
  },
  {
   "cell_type": "markdown",
   "metadata": {},
   "source": [
    "Merging the new data with previous data"
   ]
  },
  {
   "cell_type": "code",
   "execution_count": 31,
   "metadata": {},
   "outputs": [
    {
     "data": {
      "text/html": [
       "<div>\n",
       "<style scoped>\n",
       "    .dataframe tbody tr th:only-of-type {\n",
       "        vertical-align: middle;\n",
       "    }\n",
       "\n",
       "    .dataframe tbody tr th {\n",
       "        vertical-align: top;\n",
       "    }\n",
       "\n",
       "    .dataframe thead th {\n",
       "        text-align: right;\n",
       "    }\n",
       "</style>\n",
       "<table border=\"1\" class=\"dataframe\">\n",
       "  <thead>\n",
       "    <tr style=\"text-align: right;\">\n",
       "      <th></th>\n",
       "      <th>PostalCode</th>\n",
       "      <th>Borough</th>\n",
       "      <th>Neighborhood</th>\n",
       "      <th>Latitude</th>\n",
       "      <th>Longitude</th>\n",
       "      <th>Population</th>\n",
       "      <th>Average_income</th>\n",
       "    </tr>\n",
       "  </thead>\n",
       "  <tbody>\n",
       "    <tr>\n",
       "      <th>0</th>\n",
       "      <td>M3A</td>\n",
       "      <td>North York</td>\n",
       "      <td>Parkwoods</td>\n",
       "      <td>43.753259</td>\n",
       "      <td>-79.329656</td>\n",
       "      <td>23575.0</td>\n",
       "      <td>71966.0</td>\n",
       "    </tr>\n",
       "    <tr>\n",
       "      <th>1</th>\n",
       "      <td>M4A</td>\n",
       "      <td>North York</td>\n",
       "      <td>Victoria Village</td>\n",
       "      <td>43.725882</td>\n",
       "      <td>-79.315572</td>\n",
       "      <td>9405.0</td>\n",
       "      <td>60491.0</td>\n",
       "    </tr>\n",
       "    <tr>\n",
       "      <th>2</th>\n",
       "      <td>M5A</td>\n",
       "      <td>Downtown Toronto</td>\n",
       "      <td>Regent Park, Harbourfront</td>\n",
       "      <td>43.654260</td>\n",
       "      <td>-79.360636</td>\n",
       "      <td>32905.0</td>\n",
       "      <td>63542.0</td>\n",
       "    </tr>\n",
       "    <tr>\n",
       "      <th>3</th>\n",
       "      <td>M6A</td>\n",
       "      <td>North York</td>\n",
       "      <td>Lawrence Manor, Lawrence Heights</td>\n",
       "      <td>43.718518</td>\n",
       "      <td>-79.464763</td>\n",
       "      <td>13490.0</td>\n",
       "      <td>62881.0</td>\n",
       "    </tr>\n",
       "    <tr>\n",
       "      <th>4</th>\n",
       "      <td>M9A</td>\n",
       "      <td>Etobicoke</td>\n",
       "      <td>Islington Avenue, Humber Valley Village</td>\n",
       "      <td>43.667856</td>\n",
       "      <td>-79.532242</td>\n",
       "      <td>24065.0</td>\n",
       "      <td>117148.0</td>\n",
       "    </tr>\n",
       "  </tbody>\n",
       "</table>\n",
       "</div>"
      ],
      "text/plain": [
       "  PostalCode           Borough                             Neighborhood  \\\n",
       "0        M3A        North York                                Parkwoods   \n",
       "1        M4A        North York                         Victoria Village   \n",
       "2        M5A  Downtown Toronto                Regent Park, Harbourfront   \n",
       "3        M6A        North York         Lawrence Manor, Lawrence Heights   \n",
       "4        M9A         Etobicoke  Islington Avenue, Humber Valley Village   \n",
       "\n",
       "    Latitude  Longitude  Population  Average_income  \n",
       "0  43.753259 -79.329656     23575.0         71966.0  \n",
       "1  43.725882 -79.315572      9405.0         60491.0  \n",
       "2  43.654260 -79.360636     32905.0         63542.0  \n",
       "3  43.718518 -79.464763     13490.0         62881.0  \n",
       "4  43.667856 -79.532242     24065.0        117148.0  "
      ]
     },
     "execution_count": 31,
     "metadata": {},
     "output_type": "execute_result"
    }
   ],
   "source": [
    "to_data = pd.merge(Toronto, df_n, on = 'PostalCode')\n",
    "to_data.head()"
   ]
  },
  {
   "cell_type": "code",
   "execution_count": 32,
   "metadata": {},
   "outputs": [
    {
     "name": "stdout",
     "output_type": "stream",
     "text": [
      "<class 'pandas.core.frame.DataFrame'>\n",
      "Int64Index: 96 entries, 0 to 95\n",
      "Data columns (total 7 columns):\n",
      " #   Column          Non-Null Count  Dtype  \n",
      "---  ------          --------------  -----  \n",
      " 0   PostalCode      96 non-null     object \n",
      " 1   Borough         96 non-null     object \n",
      " 2   Neighborhood    96 non-null     object \n",
      " 3   Latitude        96 non-null     float64\n",
      " 4   Longitude       96 non-null     float64\n",
      " 5   Population      96 non-null     float64\n",
      " 6   Average_income  96 non-null     float64\n",
      "dtypes: float64(4), object(3)\n",
      "memory usage: 6.0+ KB\n"
     ]
    }
   ],
   "source": [
    "to_data.info()"
   ]
  },
  {
   "cell_type": "markdown",
   "metadata": {},
   "source": [
    "### 5- exploring the number of Gyms in each neighborhood using the foursqaure"
   ]
  },
  {
   "cell_type": "markdown",
   "metadata": {},
   "source": [
    "first we check the response for one neighborhood. Then, based on that, we provide a function to return the venues for all neighborhoods in our data."
   ]
  },
  {
   "cell_type": "code",
   "execution_count": 33,
   "metadata": {},
   "outputs": [
    {
     "name": "stdout",
     "output_type": "stream",
     "text": [
      "The geograpical coordinate of Toronto City are 43.6534817, -79.3839347.\n"
     ]
    }
   ],
   "source": [
    "address = 'Toronto, Ontario'\n",
    "\n",
    "geolocator = Nominatim(user_agent=\"to_explorer\")\n",
    "location = geolocator.geocode(address)\n",
    "to_latitude = location.latitude\n",
    "to_longitude = location.longitude\n",
    "print('The geograpical coordinate of Toronto City are {}, {}.'.format(to_latitude, to_longitude))"
   ]
  },
  {
   "cell_type": "code",
   "execution_count": 34,
   "metadata": {},
   "outputs": [
    {
     "name": "stdout",
     "output_type": "stream",
     "text": [
      "Latitude and longitude values of Parkwoods are 43.7532586, -79.3296565.\n"
     ]
    }
   ],
   "source": [
    "neighborhood_latitude = Toronto.loc[0, 'Latitude'] # neighborhood latitude value\n",
    "neighborhood_longitude = Toronto.loc[0, 'Longitude'] # neighborhood longitude value\n",
    "\n",
    "neighborhood_name = Toronto.loc[0, 'Neighborhood'] # neighborhood name\n",
    "\n",
    "print('Latitude and longitude values of {} are {}, {}.'.format(neighborhood_name, \n",
    "                                                               neighborhood_latitude, \n",
    "                                                               neighborhood_longitude))"
   ]
  },
  {
   "cell_type": "markdown",
   "metadata": {},
   "source": [
    "Importing the foursqaure credentials"
   ]
  },
  {
   "cell_type": "code",
   "execution_count": 35,
   "metadata": {},
   "outputs": [
    {
     "name": "stdout",
     "output_type": "stream",
     "text": [
      "Your credentails:\n",
      "CLIENT_ID: TZUWG4AZN1DFC0ETKYXJ1RSWWL43ZRCGNS4QH13KW1BGEWHQ\n",
      "CLIENT_SECRET:Z5F5VWAHNQDRE2AF1XXDEPQYUK5DBBJW3UQK1P0CF4ST1TDP\n"
     ]
    }
   ],
   "source": [
    "CLIENT_ID = 'TZUWG4AZN1DFC0ETKYXJ1RSWWL43ZRCGNS4QH13KW1BGEWHQ' # your Foursquare ID\n",
    "CLIENT_SECRET = 'Z5F5VWAHNQDRE2AF1XXDEPQYUK5DBBJW3UQK1P0CF4ST1TDP' # your Foursquare Secret\n",
    "VERSION = '20180604' # Foursquare API version\n",
    "\n",
    "print('Your credentails:')\n",
    "print('CLIENT_ID: ' + CLIENT_ID)\n",
    "print('CLIENT_SECRET:' + CLIENT_SECRET)"
   ]
  },
  {
   "cell_type": "markdown",
   "metadata": {},
   "source": [
    "setting the url for getting information about the venues from foursqaure"
   ]
  },
  {
   "cell_type": "code",
   "execution_count": 36,
   "metadata": {},
   "outputs": [
    {
     "data": {
      "text/plain": [
       "'https://api.foursquare.com/v2/venues/explore?client_id=TZUWG4AZN1DFC0ETKYXJ1RSWWL43ZRCGNS4QH13KW1BGEWHQ&client_secret=Z5F5VWAHNQDRE2AF1XXDEPQYUK5DBBJW3UQK1P0CF4ST1TDP&ll=43.7532586,-79.3296565&v=20180604&query=Gym&radius=2000&limit=200'"
      ]
     },
     "execution_count": 36,
     "metadata": {},
     "output_type": "execute_result"
    }
   ],
   "source": [
    "query = 'Gym'\n",
    "radius =2000\n",
    "LIMIT = 200\n",
    "url = 'https://api.foursquare.com/v2/venues/explore?client_id={}&client_secret={}&ll={},{}&v={}&query={}&radius={}&limit={}'.format(CLIENT_ID, CLIENT_SECRET,neighborhood_latitude,neighborhood_longitude,VERSION,query,radius,LIMIT)\n",
    "url"
   ]
  },
  {
   "cell_type": "code",
   "execution_count": 37,
   "metadata": {},
   "outputs": [
    {
     "data": {
      "text/plain": [
       "{'meta': {'code': 200, 'requestId': '5ef9df9f2f5bc4555b425886'},\n",
       " 'response': {'suggestedFilters': {'header': 'Tap to show:',\n",
       "   'filters': [{'name': 'Open now', 'key': 'openNow'}]},\n",
       "  'headerLocation': 'Parkwoods - Donalda',\n",
       "  'headerFullLocation': 'Parkwoods - Donalda, Toronto',\n",
       "  'headerLocationGranularity': 'neighborhood',\n",
       "  'query': 'gym',\n",
       "  'totalResults': 8,\n",
       "  'suggestedBounds': {'ne': {'lat': 43.77125861800002,\n",
       "    'lng': -79.30478345939711},\n",
       "   'sw': {'lat': 43.735258581999986, 'lng': -79.35452954060288}},\n",
       "  'groups': [{'type': 'Recommended Places',\n",
       "    'name': 'recommended',\n",
       "    'items': [{'reasons': {'count': 0,\n",
       "       'items': [{'summary': 'This spot is popular',\n",
       "         'type': 'general',\n",
       "         'reasonName': 'globalInteractionReason'}]},\n",
       "      'venue': {'id': '4c18e819d4d9c9284e19f029',\n",
       "       'name': 'LA Fitness',\n",
       "       'location': {'address': '1380 Don Mills Road',\n",
       "        'crossStreet': 'Mallard Rd',\n",
       "        'lat': 43.74766522888878,\n",
       "        'lng': -79.34707696065234,\n",
       "        'labeledLatLngs': [{'label': 'display',\n",
       "          'lat': 43.74766522888878,\n",
       "          'lng': -79.34707696065234}],\n",
       "        'distance': 1532,\n",
       "        'postalCode': 'M3B 2X2',\n",
       "        'cc': 'CA',\n",
       "        'city': 'Toronto',\n",
       "        'state': 'ON',\n",
       "        'country': 'Canada',\n",
       "        'formattedAddress': ['1380 Don Mills Road (Mallard Rd)',\n",
       "         'Toronto ON M3B 2X2',\n",
       "         'Canada']},\n",
       "       'categories': [{'id': '4bf58dd8d48988d175941735',\n",
       "         'name': 'Gym / Fitness Center',\n",
       "         'pluralName': 'Gyms or Fitness Centers',\n",
       "         'shortName': 'Gym / Fitness',\n",
       "         'icon': {'prefix': 'https://ss3.4sqi.net/img/categories_v2/building/gym_',\n",
       "          'suffix': '.png'},\n",
       "         'primary': True}],\n",
       "       'photos': {'count': 0, 'groups': []}},\n",
       "      'referralId': 'e-0-4c18e819d4d9c9284e19f029-0'},\n",
       "     {'reasons': {'count': 0,\n",
       "       'items': [{'summary': 'This spot is popular',\n",
       "         'type': 'general',\n",
       "         'reasonName': 'globalInteractionReason'}]},\n",
       "      'venue': {'id': '4b4fd4a9f964a520fd1627e3',\n",
       "       'name': 'North Beach Indoor Volleyball Academy',\n",
       "       'location': {'address': '74 Railside Rd',\n",
       "        'lat': 43.73719098696113,\n",
       "        'lng': -79.32371442851704,\n",
       "        'labeledLatLngs': [{'label': 'display',\n",
       "          'lat': 43.73719098696113,\n",
       "          'lng': -79.32371442851704}],\n",
       "        'distance': 1851,\n",
       "        'cc': 'CA',\n",
       "        'city': 'Toronto',\n",
       "        'state': 'ON',\n",
       "        'country': 'Canada',\n",
       "        'formattedAddress': ['74 Railside Rd', 'Toronto ON', 'Canada']},\n",
       "       'categories': [{'id': '4bf58dd8d48988d175941735',\n",
       "         'name': 'Gym / Fitness Center',\n",
       "         'pluralName': 'Gyms or Fitness Centers',\n",
       "         'shortName': 'Gym / Fitness',\n",
       "         'icon': {'prefix': 'https://ss3.4sqi.net/img/categories_v2/building/gym_',\n",
       "          'suffix': '.png'},\n",
       "         'primary': True}],\n",
       "       'photos': {'count': 0, 'groups': []}},\n",
       "      'referralId': 'e-0-4b4fd4a9f964a520fd1627e3-1'},\n",
       "     {'reasons': {'count': 0,\n",
       "       'items': [{'summary': 'This spot is popular',\n",
       "         'type': 'general',\n",
       "         'reasonName': 'globalInteractionReason'}]},\n",
       "      'venue': {'id': '4b049809f964a520725522e3',\n",
       "       'name': 'GoodLife Fitness North York Victoria Terrace',\n",
       "       'location': {'address': '1448 Lawrence Ave E',\n",
       "        'crossStreet': 'at Victoria Park Ave.',\n",
       "        'lat': 43.742128,\n",
       "        'lng': -79.31459,\n",
       "        'labeledLatLngs': [{'label': 'display',\n",
       "          'lat': 43.742128,\n",
       "          'lng': -79.31459}],\n",
       "        'distance': 1732,\n",
       "        'postalCode': 'M4A 2V6',\n",
       "        'cc': 'CA',\n",
       "        'city': 'North York',\n",
       "        'state': 'ON',\n",
       "        'country': 'Canada',\n",
       "        'formattedAddress': ['1448 Lawrence Ave E (at Victoria Park Ave.)',\n",
       "         'North York ON M4A 2V6',\n",
       "         'Canada']},\n",
       "       'categories': [{'id': '4bf58dd8d48988d176941735',\n",
       "         'name': 'Gym',\n",
       "         'pluralName': 'Gyms',\n",
       "         'shortName': 'Gym',\n",
       "         'icon': {'prefix': 'https://ss3.4sqi.net/img/categories_v2/building/gym_',\n",
       "          'suffix': '.png'},\n",
       "         'primary': True}],\n",
       "       'photos': {'count': 0, 'groups': []}},\n",
       "      'referralId': 'e-0-4b049809f964a520725522e3-2'},\n",
       "     {'reasons': {'count': 0,\n",
       "       'items': [{'summary': 'This spot is popular',\n",
       "         'type': 'general',\n",
       "         'reasonName': 'globalInteractionReason'}]},\n",
       "      'venue': {'id': '4cf8dc08ce1da1cd7c1acae1',\n",
       "       'name': 'WestinWORKOUT Gym',\n",
       "       'location': {'address': 'The Westin Prince',\n",
       "        'crossStreet': '900 York Mills Rd',\n",
       "        'lat': 43.75690178440832,\n",
       "        'lng': -79.35065622558471,\n",
       "        'labeledLatLngs': [{'label': 'display',\n",
       "          'lat': 43.75690178440832,\n",
       "          'lng': -79.35065622558471}],\n",
       "        'distance': 1736,\n",
       "        'postalCode': 'M3B 3H2',\n",
       "        'cc': 'CA',\n",
       "        'city': 'Toronto',\n",
       "        'state': 'ON',\n",
       "        'country': 'Canada',\n",
       "        'formattedAddress': ['The Westin Prince (900 York Mills Rd)',\n",
       "         'Toronto ON M3B 3H2',\n",
       "         'Canada']},\n",
       "       'categories': [{'id': '4bf58dd8d48988d176941735',\n",
       "         'name': 'Gym',\n",
       "         'pluralName': 'Gyms',\n",
       "         'shortName': 'Gym',\n",
       "         'icon': {'prefix': 'https://ss3.4sqi.net/img/categories_v2/building/gym_',\n",
       "          'suffix': '.png'},\n",
       "         'primary': True}],\n",
       "       'photos': {'count': 0, 'groups': []}},\n",
       "      'referralId': 'e-0-4cf8dc08ce1da1cd7c1acae1-3'},\n",
       "     {'reasons': {'count': 0,\n",
       "       'items': [{'summary': 'This spot is popular',\n",
       "         'type': 'general',\n",
       "         'reasonName': 'globalInteractionReason'}]},\n",
       "      'venue': {'id': '4bc5c2c55935c9b6384da6d2',\n",
       "       'name': 'Can-Fit-Pro',\n",
       "       'location': {'address': '225 Select Avenue',\n",
       "        'lat': 43.768563934577365,\n",
       "        'lng': -79.3342749554817,\n",
       "        'labeledLatLngs': [{'label': 'display',\n",
       "          'lat': 43.768563934577365,\n",
       "          'lng': -79.3342749554817}],\n",
       "        'distance': 1743,\n",
       "        'postalCode': 'M1V 4A5',\n",
       "        'cc': 'CA',\n",
       "        'city': 'Toronto',\n",
       "        'state': 'ON',\n",
       "        'country': 'Canada',\n",
       "        'formattedAddress': ['225 Select Avenue',\n",
       "         'Toronto ON M1V 4A5',\n",
       "         'Canada']},\n",
       "       'categories': [{'id': '4bf58dd8d48988d176941735',\n",
       "         'name': 'Gym',\n",
       "         'pluralName': 'Gyms',\n",
       "         'shortName': 'Gym',\n",
       "         'icon': {'prefix': 'https://ss3.4sqi.net/img/categories_v2/building/gym_',\n",
       "          'suffix': '.png'},\n",
       "         'primary': True}],\n",
       "       'photos': {'count': 0, 'groups': []}},\n",
       "      'referralId': 'e-0-4bc5c2c55935c9b6384da6d2-4'},\n",
       "     {'reasons': {'count': 0,\n",
       "       'items': [{'summary': 'This spot is popular',\n",
       "         'type': 'general',\n",
       "         'reasonName': 'globalInteractionReason'}]},\n",
       "      'venue': {'id': '4c4e02bb9932e21eb3e515cd',\n",
       "       'name': '255 Consumers Rd. Gym',\n",
       "       'location': {'lat': 43.77018757090359,\n",
       "        'lng': -79.33022673562812,\n",
       "        'labeledLatLngs': [{'label': 'display',\n",
       "          'lat': 43.77018757090359,\n",
       "          'lng': -79.33022673562812}],\n",
       "        'distance': 1885,\n",
       "        'cc': 'CA',\n",
       "        'city': 'Toronto',\n",
       "        'state': 'ON',\n",
       "        'country': 'Canada',\n",
       "        'formattedAddress': ['Toronto ON', 'Canada']},\n",
       "       'categories': [{'id': '4bf58dd8d48988d176941735',\n",
       "         'name': 'Gym',\n",
       "         'pluralName': 'Gyms',\n",
       "         'shortName': 'Gym',\n",
       "         'icon': {'prefix': 'https://ss3.4sqi.net/img/categories_v2/building/gym_',\n",
       "          'suffix': '.png'},\n",
       "         'primary': True}],\n",
       "       'photos': {'count': 0, 'groups': []}},\n",
       "      'referralId': 'e-0-4c4e02bb9932e21eb3e515cd-5'},\n",
       "     {'reasons': {'count': 0,\n",
       "       'items': [{'summary': 'This spot is popular',\n",
       "         'type': 'general',\n",
       "         'reasonName': 'globalInteractionReason'}]},\n",
       "      'venue': {'id': '4d8c9179d00a6ea8ebfe8c4f',\n",
       "       'name': 'Rogers Cafeteria',\n",
       "       'location': {'address': '855 York Mills Rd.',\n",
       "        'lat': 43.75359359444752,\n",
       "        'lng': -79.35447333974949,\n",
       "        'labeledLatLngs': [{'label': 'display',\n",
       "          'lat': 43.75359359444752,\n",
       "          'lng': -79.35447333974949}],\n",
       "        'distance': 1995,\n",
       "        'cc': 'CA',\n",
       "        'city': 'Toronto',\n",
       "        'state': 'ON',\n",
       "        'country': 'Canada',\n",
       "        'formattedAddress': ['855 York Mills Rd.', 'Toronto ON', 'Canada']},\n",
       "       'categories': [{'id': '4bf58dd8d48988d128941735',\n",
       "         'name': 'Cafeteria',\n",
       "         'pluralName': 'Cafeterias',\n",
       "         'shortName': 'Cafeteria',\n",
       "         'icon': {'prefix': 'https://ss3.4sqi.net/img/categories_v2/education/cafeteria_',\n",
       "          'suffix': '.png'},\n",
       "         'primary': True}],\n",
       "       'photos': {'count': 0, 'groups': []}},\n",
       "      'referralId': 'e-0-4d8c9179d00a6ea8ebfe8c4f-6'},\n",
       "     {'reasons': {'count': 0,\n",
       "       'items': [{'summary': 'This spot is popular',\n",
       "         'type': 'general',\n",
       "         'reasonName': 'globalInteractionReason'}]},\n",
       "      'venue': {'id': '589cb6ff51d19e538dd777b3',\n",
       "       'name': 'Warrior Muay Thai',\n",
       "       'location': {'address': '68 Railside Rd',\n",
       "        'lat': 43.7382853,\n",
       "        'lng': -79.32303389999998,\n",
       "        'labeledLatLngs': [{'label': 'display',\n",
       "          'lat': 43.7382853,\n",
       "          'lng': -79.32303389999998}],\n",
       "        'distance': 1749,\n",
       "        'postalCode': 'M3A 3P8',\n",
       "        'cc': 'CA',\n",
       "        'city': 'Toronto',\n",
       "        'state': 'ON',\n",
       "        'country': 'Canada',\n",
       "        'formattedAddress': ['68 Railside Rd',\n",
       "         'Toronto ON M3A 3P8',\n",
       "         'Canada']},\n",
       "       'categories': [{'id': '4bf58dd8d48988d101941735',\n",
       "         'name': 'Martial Arts Dojo',\n",
       "         'pluralName': 'Martial Arts Dojos',\n",
       "         'shortName': 'Martial Arts',\n",
       "         'icon': {'prefix': 'https://ss3.4sqi.net/img/categories_v2/shops/gym_martialarts_',\n",
       "          'suffix': '.png'},\n",
       "         'primary': True}],\n",
       "       'photos': {'count': 0, 'groups': []},\n",
       "       'venuePage': {'id': '398181859'}},\n",
       "      'referralId': 'e-0-589cb6ff51d19e538dd777b3-7'}]}]}}"
      ]
     },
     "execution_count": 37,
     "metadata": {},
     "output_type": "execute_result"
    }
   ],
   "source": [
    "results = requests.get(url)\n",
    "result1 = results.json()\n",
    "result1"
   ]
  },
  {
   "cell_type": "code",
   "execution_count": 38,
   "metadata": {},
   "outputs": [
    {
     "data": {
      "text/plain": [
       "8"
      ]
     },
     "execution_count": 38,
     "metadata": {},
     "output_type": "execute_result"
    }
   ],
   "source": [
    "response1= result1['response']\n",
    "response1['totalResults']"
   ]
  },
  {
   "cell_type": "markdown",
   "metadata": {},
   "source": [
    "function to return number of Gyms in the vicinity of each neighborhood"
   ]
  },
  {
   "cell_type": "code",
   "execution_count": 39,
   "metadata": {},
   "outputs": [],
   "source": [
    "def getNumNearbyGyms(postalcodes,latitudes,longitudes, radius=1000, query ='Gym', LIMIT = 200):\n",
    "    number_of_gyms =[] #number of gyms in vicinity of neighborhoods\n",
    "    p_c= [] # keeping postla codes\n",
    "    for pc, lat, lng in zip(postalcodes, latitudes, longitudes):\n",
    "        url = 'https://api.foursquare.com/v2/venues/explore?client_id={}&client_secret={}&ll={},{}&v={}&query={}&radius={}&limit={}'.format(\n",
    "            CLIENT_ID,CLIENT_SECRET,lat,lng,VERSION,query,radius,LIMIT)\n",
    "        results = requests.get(url).json()\n",
    "        response = results['response']\n",
    "        try:\n",
    "            num_of_gyms = response['totalResults']\n",
    "        except: # if there is no result or the result is not mentioned\n",
    "            num_of_gyms = 0\n",
    "        number_of_gyms.append(num_of_gyms)\n",
    "        p_c.append(pc)\n",
    "    pc_gyms = pd.DataFrame(p_c, columns = ['PostalCode'])\n",
    "    pc_gyms['Num_of_gyms'] = number_of_gyms\n",
    "    return(pc_gyms)"
   ]
  },
  {
   "cell_type": "code",
   "execution_count": 40,
   "metadata": {},
   "outputs": [
    {
     "name": "stdout",
     "output_type": "stream",
     "text": [
      "(96, 2)\n"
     ]
    },
    {
     "data": {
      "text/html": [
       "<div>\n",
       "<style scoped>\n",
       "    .dataframe tbody tr th:only-of-type {\n",
       "        vertical-align: middle;\n",
       "    }\n",
       "\n",
       "    .dataframe tbody tr th {\n",
       "        vertical-align: top;\n",
       "    }\n",
       "\n",
       "    .dataframe thead th {\n",
       "        text-align: right;\n",
       "    }\n",
       "</style>\n",
       "<table border=\"1\" class=\"dataframe\">\n",
       "  <thead>\n",
       "    <tr style=\"text-align: right;\">\n",
       "      <th></th>\n",
       "      <th>PostalCode</th>\n",
       "      <th>Num_of_gyms</th>\n",
       "    </tr>\n",
       "  </thead>\n",
       "  <tbody>\n",
       "    <tr>\n",
       "      <th>0</th>\n",
       "      <td>M3A</td>\n",
       "      <td>0</td>\n",
       "    </tr>\n",
       "    <tr>\n",
       "      <th>1</th>\n",
       "      <td>M4A</td>\n",
       "      <td>2</td>\n",
       "    </tr>\n",
       "    <tr>\n",
       "      <th>2</th>\n",
       "      <td>M5A</td>\n",
       "      <td>19</td>\n",
       "    </tr>\n",
       "    <tr>\n",
       "      <th>3</th>\n",
       "      <td>M6A</td>\n",
       "      <td>2</td>\n",
       "    </tr>\n",
       "    <tr>\n",
       "      <th>4</th>\n",
       "      <td>M9A</td>\n",
       "      <td>0</td>\n",
       "    </tr>\n",
       "    <tr>\n",
       "      <th>5</th>\n",
       "      <td>M1B</td>\n",
       "      <td>2</td>\n",
       "    </tr>\n",
       "    <tr>\n",
       "      <th>6</th>\n",
       "      <td>M3B</td>\n",
       "      <td>2</td>\n",
       "    </tr>\n",
       "    <tr>\n",
       "      <th>7</th>\n",
       "      <td>M4B</td>\n",
       "      <td>2</td>\n",
       "    </tr>\n",
       "    <tr>\n",
       "      <th>8</th>\n",
       "      <td>M5B</td>\n",
       "      <td>62</td>\n",
       "    </tr>\n",
       "    <tr>\n",
       "      <th>9</th>\n",
       "      <td>M6B</td>\n",
       "      <td>6</td>\n",
       "    </tr>\n",
       "  </tbody>\n",
       "</table>\n",
       "</div>"
      ],
      "text/plain": [
       "  PostalCode  Num_of_gyms\n",
       "0        M3A            0\n",
       "1        M4A            2\n",
       "2        M5A           19\n",
       "3        M6A            2\n",
       "4        M9A            0\n",
       "5        M1B            2\n",
       "6        M3B            2\n",
       "7        M4B            2\n",
       "8        M5B           62\n",
       "9        M6B            6"
      ]
     },
     "execution_count": 40,
     "metadata": {},
     "output_type": "execute_result"
    }
   ],
   "source": [
    "to_data_gyms = getNumNearbyGyms(postalcodes=to_data['PostalCode'],\n",
    "                                   latitudes=to_data['Latitude'],\n",
    "                                   longitudes=to_data['Longitude'])\n",
    "print(to_data_gyms.shape)\n",
    "to_data_gyms.head(10)"
   ]
  },
  {
   "cell_type": "markdown",
   "metadata": {},
   "source": [
    "Merging the new data with previous data"
   ]
  },
  {
   "cell_type": "code",
   "execution_count": 41,
   "metadata": {},
   "outputs": [
    {
     "data": {
      "text/html": [
       "<div>\n",
       "<style scoped>\n",
       "    .dataframe tbody tr th:only-of-type {\n",
       "        vertical-align: middle;\n",
       "    }\n",
       "\n",
       "    .dataframe tbody tr th {\n",
       "        vertical-align: top;\n",
       "    }\n",
       "\n",
       "    .dataframe thead th {\n",
       "        text-align: right;\n",
       "    }\n",
       "</style>\n",
       "<table border=\"1\" class=\"dataframe\">\n",
       "  <thead>\n",
       "    <tr style=\"text-align: right;\">\n",
       "      <th></th>\n",
       "      <th>PostalCode</th>\n",
       "      <th>Borough</th>\n",
       "      <th>Neighborhood</th>\n",
       "      <th>Latitude</th>\n",
       "      <th>Longitude</th>\n",
       "      <th>Population</th>\n",
       "      <th>Average_income</th>\n",
       "      <th>Num_of_gyms</th>\n",
       "    </tr>\n",
       "  </thead>\n",
       "  <tbody>\n",
       "    <tr>\n",
       "      <th>0</th>\n",
       "      <td>M3A</td>\n",
       "      <td>North York</td>\n",
       "      <td>Parkwoods</td>\n",
       "      <td>43.753259</td>\n",
       "      <td>-79.329656</td>\n",
       "      <td>23575.0</td>\n",
       "      <td>71966.0</td>\n",
       "      <td>0</td>\n",
       "    </tr>\n",
       "    <tr>\n",
       "      <th>1</th>\n",
       "      <td>M4A</td>\n",
       "      <td>North York</td>\n",
       "      <td>Victoria Village</td>\n",
       "      <td>43.725882</td>\n",
       "      <td>-79.315572</td>\n",
       "      <td>9405.0</td>\n",
       "      <td>60491.0</td>\n",
       "      <td>2</td>\n",
       "    </tr>\n",
       "    <tr>\n",
       "      <th>2</th>\n",
       "      <td>M5A</td>\n",
       "      <td>Downtown Toronto</td>\n",
       "      <td>Regent Park, Harbourfront</td>\n",
       "      <td>43.654260</td>\n",
       "      <td>-79.360636</td>\n",
       "      <td>32905.0</td>\n",
       "      <td>63542.0</td>\n",
       "      <td>19</td>\n",
       "    </tr>\n",
       "    <tr>\n",
       "      <th>3</th>\n",
       "      <td>M6A</td>\n",
       "      <td>North York</td>\n",
       "      <td>Lawrence Manor, Lawrence Heights</td>\n",
       "      <td>43.718518</td>\n",
       "      <td>-79.464763</td>\n",
       "      <td>13490.0</td>\n",
       "      <td>62881.0</td>\n",
       "      <td>2</td>\n",
       "    </tr>\n",
       "    <tr>\n",
       "      <th>4</th>\n",
       "      <td>M9A</td>\n",
       "      <td>Etobicoke</td>\n",
       "      <td>Islington Avenue, Humber Valley Village</td>\n",
       "      <td>43.667856</td>\n",
       "      <td>-79.532242</td>\n",
       "      <td>24065.0</td>\n",
       "      <td>117148.0</td>\n",
       "      <td>0</td>\n",
       "    </tr>\n",
       "    <tr>\n",
       "      <th>5</th>\n",
       "      <td>M1B</td>\n",
       "      <td>Scarborough</td>\n",
       "      <td>Malvern, Rouge</td>\n",
       "      <td>43.806686</td>\n",
       "      <td>-79.194353</td>\n",
       "      <td>45135.0</td>\n",
       "      <td>70929.0</td>\n",
       "      <td>2</td>\n",
       "    </tr>\n",
       "    <tr>\n",
       "      <th>6</th>\n",
       "      <td>M3B</td>\n",
       "      <td>North York</td>\n",
       "      <td>Don Mills</td>\n",
       "      <td>43.745906</td>\n",
       "      <td>-79.352188</td>\n",
       "      <td>8235.0</td>\n",
       "      <td>137613.0</td>\n",
       "      <td>2</td>\n",
       "    </tr>\n",
       "    <tr>\n",
       "      <th>7</th>\n",
       "      <td>M4B</td>\n",
       "      <td>East York</td>\n",
       "      <td>Parkview Hill, Woodbine Gardens</td>\n",
       "      <td>43.706397</td>\n",
       "      <td>-79.309937</td>\n",
       "      <td>12840.0</td>\n",
       "      <td>71178.0</td>\n",
       "      <td>2</td>\n",
       "    </tr>\n",
       "    <tr>\n",
       "      <th>8</th>\n",
       "      <td>M5B</td>\n",
       "      <td>Downtown Toronto</td>\n",
       "      <td>Garden District, Ryerson</td>\n",
       "      <td>43.657162</td>\n",
       "      <td>-79.378937</td>\n",
       "      <td>11085.0</td>\n",
       "      <td>57454.0</td>\n",
       "      <td>62</td>\n",
       "    </tr>\n",
       "    <tr>\n",
       "      <th>9</th>\n",
       "      <td>M6B</td>\n",
       "      <td>North York</td>\n",
       "      <td>Glencairn</td>\n",
       "      <td>43.709577</td>\n",
       "      <td>-79.445073</td>\n",
       "      <td>18830.0</td>\n",
       "      <td>85675.0</td>\n",
       "      <td>6</td>\n",
       "    </tr>\n",
       "  </tbody>\n",
       "</table>\n",
       "</div>"
      ],
      "text/plain": [
       "  PostalCode           Borough                             Neighborhood  \\\n",
       "0        M3A        North York                                Parkwoods   \n",
       "1        M4A        North York                         Victoria Village   \n",
       "2        M5A  Downtown Toronto                Regent Park, Harbourfront   \n",
       "3        M6A        North York         Lawrence Manor, Lawrence Heights   \n",
       "4        M9A         Etobicoke  Islington Avenue, Humber Valley Village   \n",
       "5        M1B       Scarborough                           Malvern, Rouge   \n",
       "6        M3B        North York                                Don Mills   \n",
       "7        M4B         East York          Parkview Hill, Woodbine Gardens   \n",
       "8        M5B  Downtown Toronto                 Garden District, Ryerson   \n",
       "9        M6B        North York                                Glencairn   \n",
       "\n",
       "    Latitude  Longitude  Population  Average_income  Num_of_gyms  \n",
       "0  43.753259 -79.329656     23575.0         71966.0            0  \n",
       "1  43.725882 -79.315572      9405.0         60491.0            2  \n",
       "2  43.654260 -79.360636     32905.0         63542.0           19  \n",
       "3  43.718518 -79.464763     13490.0         62881.0            2  \n",
       "4  43.667856 -79.532242     24065.0        117148.0            0  \n",
       "5  43.806686 -79.194353     45135.0         70929.0            2  \n",
       "6  43.745906 -79.352188      8235.0        137613.0            2  \n",
       "7  43.706397 -79.309937     12840.0         71178.0            2  \n",
       "8  43.657162 -79.378937     11085.0         57454.0           62  \n",
       "9  43.709577 -79.445073     18830.0         85675.0            6  "
      ]
     },
     "execution_count": 41,
     "metadata": {},
     "output_type": "execute_result"
    }
   ],
   "source": [
    "to_data_n = pd.merge(to_data, to_data_gyms, on ='PostalCode')\n",
    "to_data_n.head(10)"
   ]
  },
  {
   "cell_type": "markdown",
   "metadata": {},
   "source": [
    "### 6- preparing data and clustering using Kmeans"
   ]
  },
  {
   "cell_type": "code",
   "execution_count": 42,
   "metadata": {},
   "outputs": [
    {
     "data": {
      "text/html": [
       "<div>\n",
       "<style scoped>\n",
       "    .dataframe tbody tr th:only-of-type {\n",
       "        vertical-align: middle;\n",
       "    }\n",
       "\n",
       "    .dataframe tbody tr th {\n",
       "        vertical-align: top;\n",
       "    }\n",
       "\n",
       "    .dataframe thead th {\n",
       "        text-align: right;\n",
       "    }\n",
       "</style>\n",
       "<table border=\"1\" class=\"dataframe\">\n",
       "  <thead>\n",
       "    <tr style=\"text-align: right;\">\n",
       "      <th></th>\n",
       "      <th>Latitude</th>\n",
       "      <th>Longitude</th>\n",
       "      <th>Population</th>\n",
       "      <th>Average_income</th>\n",
       "      <th>Num_of_gyms</th>\n",
       "    </tr>\n",
       "  </thead>\n",
       "  <tbody>\n",
       "    <tr>\n",
       "      <th>count</th>\n",
       "      <td>96.000000</td>\n",
       "      <td>96.000000</td>\n",
       "      <td>96.000000</td>\n",
       "      <td>96.000000</td>\n",
       "      <td>96.000000</td>\n",
       "    </tr>\n",
       "    <tr>\n",
       "      <th>mean</th>\n",
       "      <td>43.708566</td>\n",
       "      <td>-79.396472</td>\n",
       "      <td>19863.489583</td>\n",
       "      <td>88925.020833</td>\n",
       "      <td>8.947917</td>\n",
       "    </tr>\n",
       "    <tr>\n",
       "      <th>std</th>\n",
       "      <td>0.052123</td>\n",
       "      <td>0.097749</td>\n",
       "      <td>10075.901661</td>\n",
       "      <td>41918.062375</td>\n",
       "      <td>17.164449</td>\n",
       "    </tr>\n",
       "    <tr>\n",
       "      <th>min</th>\n",
       "      <td>43.602414</td>\n",
       "      <td>-79.594054</td>\n",
       "      <td>1835.000000</td>\n",
       "      <td>47960.000000</td>\n",
       "      <td>0.000000</td>\n",
       "    </tr>\n",
       "    <tr>\n",
       "      <th>25%</th>\n",
       "      <td>43.667357</td>\n",
       "      <td>-79.464763</td>\n",
       "      <td>12486.250000</td>\n",
       "      <td>63854.000000</td>\n",
       "      <td>0.000000</td>\n",
       "    </tr>\n",
       "    <tr>\n",
       "      <th>50%</th>\n",
       "      <td>43.706573</td>\n",
       "      <td>-79.392309</td>\n",
       "      <td>18367.500000</td>\n",
       "      <td>73658.500000</td>\n",
       "      <td>2.000000</td>\n",
       "    </tr>\n",
       "    <tr>\n",
       "      <th>75%</th>\n",
       "      <td>43.750743</td>\n",
       "      <td>-79.340219</td>\n",
       "      <td>25522.500000</td>\n",
       "      <td>91718.250000</td>\n",
       "      <td>7.250000</td>\n",
       "    </tr>\n",
       "    <tr>\n",
       "      <th>max</th>\n",
       "      <td>43.836125</td>\n",
       "      <td>-79.160497</td>\n",
       "      <td>56475.000000</td>\n",
       "      <td>263796.000000</td>\n",
       "      <td>90.000000</td>\n",
       "    </tr>\n",
       "  </tbody>\n",
       "</table>\n",
       "</div>"
      ],
      "text/plain": [
       "        Latitude  Longitude    Population  Average_income  Num_of_gyms\n",
       "count  96.000000  96.000000     96.000000       96.000000    96.000000\n",
       "mean   43.708566 -79.396472  19863.489583    88925.020833     8.947917\n",
       "std     0.052123   0.097749  10075.901661    41918.062375    17.164449\n",
       "min    43.602414 -79.594054   1835.000000    47960.000000     0.000000\n",
       "25%    43.667357 -79.464763  12486.250000    63854.000000     0.000000\n",
       "50%    43.706573 -79.392309  18367.500000    73658.500000     2.000000\n",
       "75%    43.750743 -79.340219  25522.500000    91718.250000     7.250000\n",
       "max    43.836125 -79.160497  56475.000000   263796.000000    90.000000"
      ]
     },
     "execution_count": 42,
     "metadata": {},
     "output_type": "execute_result"
    }
   ],
   "source": [
    "to_data_n.describe()"
   ]
  },
  {
   "cell_type": "markdown",
   "metadata": {},
   "source": [
    "the population of people living in a neighborhood and also the average income of its households can be factors affecting the suitability of the neighborhood for building a Gym.besides, the number of existing Gyms in the neighborhood has a negative effect on the intention for an investor to provide budget for a new Gym. therefore, we are going to make two new variables,one the product of population and average income and another inverse of the number of Gyms in the neighborhood. to reduce the effect of having zero or one gyms we add the average of number of gyms to each number of gym and then inverse it. we will use these two new variables for clustering the neighborhoods.  "
   ]
  },
  {
   "cell_type": "code",
   "execution_count": 44,
   "metadata": {},
   "outputs": [
    {
     "data": {
      "text/html": [
       "<div>\n",
       "<style scoped>\n",
       "    .dataframe tbody tr th:only-of-type {\n",
       "        vertical-align: middle;\n",
       "    }\n",
       "\n",
       "    .dataframe tbody tr th {\n",
       "        vertical-align: top;\n",
       "    }\n",
       "\n",
       "    .dataframe thead th {\n",
       "        text-align: right;\n",
       "    }\n",
       "</style>\n",
       "<table border=\"1\" class=\"dataframe\">\n",
       "  <thead>\n",
       "    <tr style=\"text-align: right;\">\n",
       "      <th></th>\n",
       "      <th>Pop_income</th>\n",
       "      <th>Inv_gym</th>\n",
       "    </tr>\n",
       "  </thead>\n",
       "  <tbody>\n",
       "    <tr>\n",
       "      <th>0</th>\n",
       "      <td>0.396403</td>\n",
       "      <td>1.000000</td>\n",
       "    </tr>\n",
       "    <tr>\n",
       "      <th>1</th>\n",
       "      <td>0.096138</td>\n",
       "      <td>0.800000</td>\n",
       "    </tr>\n",
       "    <tr>\n",
       "      <th>2</th>\n",
       "      <td>0.501380</td>\n",
       "      <td>0.253571</td>\n",
       "    </tr>\n",
       "    <tr>\n",
       "      <th>3</th>\n",
       "      <td>0.170519</td>\n",
       "      <td>0.800000</td>\n",
       "    </tr>\n",
       "    <tr>\n",
       "      <th>4</th>\n",
       "      <td>0.695308</td>\n",
       "      <td>1.000000</td>\n",
       "    </tr>\n",
       "  </tbody>\n",
       "</table>\n",
       "</div>"
      ],
      "text/plain": [
       "   Pop_income   Inv_gym\n",
       "0    0.396403  1.000000\n",
       "1    0.096138  0.800000\n",
       "2    0.501380  0.253571\n",
       "3    0.170519  0.800000\n",
       "4    0.695308  1.000000"
      ]
     },
     "execution_count": 44,
     "metadata": {},
     "output_type": "execute_result"
    }
   ],
   "source": [
    "to_data_n2 = to_data_n # make a copy of our dataframe\n",
    "\n",
    "# the new variable Pop_income which is the product of population(15-64) and household average income\n",
    "to_data_n2['Pop_income'] = to_data_n2['Population'] * to_data_n2['Average_income']\n",
    "\n",
    "# normalize the Pop_income\n",
    "to_data_n2['Pop_income'] = (to_data_n2['Pop_income'] - to_data_n2['Pop_income'].min())/(to_data_n2['Pop_income'].max() - to_data_n2['Pop_income'].min())\n",
    "\n",
    "#inversing the number of gyms plus the average  \n",
    "to_data_n2['Inv_gym'] = 1/(to_data_n2['Num_of_gyms'] + 9) # 9 is the average of number of gyms\n",
    "\n",
    "# normalize the Inv_gym\n",
    "to_data_n2['Inv_gym'] = (to_data_n2['Inv_gym'] - to_data_n2['Inv_gym'].min())/(to_data_n2['Inv_gym'].max() - to_data_n2['Inv_gym'].min())\n",
    "\n",
    "to_data_n2 = to_data_n2.loc[:,['Pop_income','Inv_gym']] # selecting the two columns to use for clustering\n",
    "\n",
    "#to_data_n2['Average_income'] = (to_data_n2['Average_income'] - to_data_n2['Average_income'].min())/(to_data_n2['Average_income'].max() - to_data_n2['Average_income'].min())\n",
    "to_data_n2.head()"
   ]
  },
  {
   "cell_type": "markdown",
   "metadata": {},
   "source": [
    "Checking for the elbow point to find the elbow point K to choose for the number of clusters in Kmeans"
   ]
  },
  {
   "cell_type": "code",
   "execution_count": 46,
   "metadata": {},
   "outputs": [],
   "source": [
    "Sum_of_squared_distances = []\n",
    "K = range(1,15)\n",
    "for k in K:\n",
    "    km = KMeans(n_clusters=k)\n",
    "    km = km.fit(to_data_n2)\n",
    "    Sum_of_squared_distances.append(km.inertia_)"
   ]
  },
  {
   "cell_type": "code",
   "execution_count": 47,
   "metadata": {},
   "outputs": [
    {
     "data": {
      "image/png": "[encoded data removed]",
      "text/plain": [
       "<Figure size 432x288 with 1 Axes>"
      ]
     },
     "metadata": {
      "needs_background": "light"
     },
     "output_type": "display_data"
    }
   ],
   "source": [
    "plt.plot(K, Sum_of_squared_distances, 'bx-')\n",
    "plt.xlabel('k')\n",
    "plt.ylabel('Sum_of_squared_distances')\n",
    "plt.title('Elbow Method For Optimal k')\n",
    "plt.show()"
   ]
  },
  {
   "cell_type": "markdown",
   "metadata": {},
   "source": [
    "Based on the above plot, we choose k=6 for the number of clusters"
   ]
  },
  {
   "cell_type": "code",
   "execution_count": 48,
   "metadata": {},
   "outputs": [
    {
     "data": {
      "text/plain": [
       "array([1, 3, 5, 3, 1, 4, 3, 3, 2, 0], dtype=int32)"
      ]
     },
     "execution_count": 48,
     "metadata": {},
     "output_type": "execute_result"
    }
   ],
   "source": [
    "kclusters = 6\n",
    "# run k-means clustering\n",
    "kmeans = KMeans(n_clusters=kclusters, random_state=0).fit(to_data_n2)\n",
    "\n",
    "# check cluster labels generated for each row in the dataframe\n",
    "kmeans.labels_[0:10]"
   ]
  },
  {
   "cell_type": "markdown",
   "metadata": {},
   "source": [
    "Adding the clustering labels to our main dataframe"
   ]
  },
  {
   "cell_type": "code",
   "execution_count": 49,
   "metadata": {},
   "outputs": [
    {
     "data": {
      "text/html": [
       "<div>\n",
       "<style scoped>\n",
       "    .dataframe tbody tr th:only-of-type {\n",
       "        vertical-align: middle;\n",
       "    }\n",
       "\n",
       "    .dataframe tbody tr th {\n",
       "        vertical-align: top;\n",
       "    }\n",
       "\n",
       "    .dataframe thead th {\n",
       "        text-align: right;\n",
       "    }\n",
       "</style>\n",
       "<table border=\"1\" class=\"dataframe\">\n",
       "  <thead>\n",
       "    <tr style=\"text-align: right;\">\n",
       "      <th></th>\n",
       "      <th>PostalCode</th>\n",
       "      <th>Cluster Labels</th>\n",
       "      <th>Borough</th>\n",
       "      <th>Neighborhood</th>\n",
       "      <th>Latitude</th>\n",
       "      <th>Longitude</th>\n",
       "      <th>Population</th>\n",
       "      <th>Average_income</th>\n",
       "      <th>Num_of_gyms</th>\n",
       "      <th>Pop_income</th>\n",
       "      <th>Inv_gym</th>\n",
       "    </tr>\n",
       "  </thead>\n",
       "  <tbody>\n",
       "    <tr>\n",
       "      <th>0</th>\n",
       "      <td>M3A</td>\n",
       "      <td>1</td>\n",
       "      <td>North York</td>\n",
       "      <td>Parkwoods</td>\n",
       "      <td>43.753259</td>\n",
       "      <td>-79.329656</td>\n",
       "      <td>23575.0</td>\n",
       "      <td>71966.0</td>\n",
       "      <td>0</td>\n",
       "      <td>0.396403</td>\n",
       "      <td>1.000000</td>\n",
       "    </tr>\n",
       "    <tr>\n",
       "      <th>1</th>\n",
       "      <td>M4A</td>\n",
       "      <td>3</td>\n",
       "      <td>North York</td>\n",
       "      <td>Victoria Village</td>\n",
       "      <td>43.725882</td>\n",
       "      <td>-79.315572</td>\n",
       "      <td>9405.0</td>\n",
       "      <td>60491.0</td>\n",
       "      <td>2</td>\n",
       "      <td>0.096138</td>\n",
       "      <td>0.800000</td>\n",
       "    </tr>\n",
       "    <tr>\n",
       "      <th>2</th>\n",
       "      <td>M5A</td>\n",
       "      <td>5</td>\n",
       "      <td>Downtown Toronto</td>\n",
       "      <td>Regent Park, Harbourfront</td>\n",
       "      <td>43.654260</td>\n",
       "      <td>-79.360636</td>\n",
       "      <td>32905.0</td>\n",
       "      <td>63542.0</td>\n",
       "      <td>19</td>\n",
       "      <td>0.501380</td>\n",
       "      <td>0.253571</td>\n",
       "    </tr>\n",
       "    <tr>\n",
       "      <th>3</th>\n",
       "      <td>M6A</td>\n",
       "      <td>3</td>\n",
       "      <td>North York</td>\n",
       "      <td>Lawrence Manor, Lawrence Heights</td>\n",
       "      <td>43.718518</td>\n",
       "      <td>-79.464763</td>\n",
       "      <td>13490.0</td>\n",
       "      <td>62881.0</td>\n",
       "      <td>2</td>\n",
       "      <td>0.170519</td>\n",
       "      <td>0.800000</td>\n",
       "    </tr>\n",
       "    <tr>\n",
       "      <th>4</th>\n",
       "      <td>M9A</td>\n",
       "      <td>1</td>\n",
       "      <td>Etobicoke</td>\n",
       "      <td>Islington Avenue, Humber Valley Village</td>\n",
       "      <td>43.667856</td>\n",
       "      <td>-79.532242</td>\n",
       "      <td>24065.0</td>\n",
       "      <td>117148.0</td>\n",
       "      <td>0</td>\n",
       "      <td>0.695308</td>\n",
       "      <td>1.000000</td>\n",
       "    </tr>\n",
       "  </tbody>\n",
       "</table>\n",
       "</div>"
      ],
      "text/plain": [
       "  PostalCode  Cluster Labels           Borough  \\\n",
       "0        M3A               1        North York   \n",
       "1        M4A               3        North York   \n",
       "2        M5A               5  Downtown Toronto   \n",
       "3        M6A               3        North York   \n",
       "4        M9A               1         Etobicoke   \n",
       "\n",
       "                              Neighborhood   Latitude  Longitude  Population  \\\n",
       "0                                Parkwoods  43.753259 -79.329656     23575.0   \n",
       "1                         Victoria Village  43.725882 -79.315572      9405.0   \n",
       "2                Regent Park, Harbourfront  43.654260 -79.360636     32905.0   \n",
       "3         Lawrence Manor, Lawrence Heights  43.718518 -79.464763     13490.0   \n",
       "4  Islington Avenue, Humber Valley Village  43.667856 -79.532242     24065.0   \n",
       "\n",
       "   Average_income  Num_of_gyms  Pop_income   Inv_gym  \n",
       "0         71966.0            0    0.396403  1.000000  \n",
       "1         60491.0            2    0.096138  0.800000  \n",
       "2         63542.0           19    0.501380  0.253571  \n",
       "3         62881.0            2    0.170519  0.800000  \n",
       "4        117148.0            0    0.695308  1.000000  "
      ]
     },
     "execution_count": 49,
     "metadata": {},
     "output_type": "execute_result"
    }
   ],
   "source": [
    "# add clustering labels\n",
    "to_data_n.insert(1, 'Cluster Labels', kmeans.labels_)\n",
    "to_data_n.head()"
   ]
  },
  {
   "cell_type": "markdown",
   "metadata": {},
   "source": [
    "### 7- Visualizing the clusters using *folium*"
   ]
  },
  {
   "cell_type": "code",
   "execution_count": 51,
   "metadata": {},
   "outputs": [
    {
     "data": {
      "text/html": [
       "<div style=\"width:100%;\"><div style=\"position:relative;width:100%;height:0;padding-bottom:60%;\"><span style=\"color:#565656\">Make this Notebook Trusted to load map: File -> Trust Notebook</span><iframe src=\"about:blank\" style=\"position:absolute;width:100%;height:100%;left:0;top:0;border:none !important;\" data-html=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 onload=\"this.contentDocument.open();this.contentDocument.write(atob(this.getAttribute('data-html')));this.contentDocument.close();\" allowfullscreen webkitallowfullscreen mozallowfullscreen></iframe></div></div>"
      ],
      "text/plain": [
       "<folium.folium.Map at 0x7fe7155fddd8>"
      ]
     },
     "execution_count": 51,
     "metadata": {},
     "output_type": "execute_result"
    }
   ],
   "source": [
    "map_clusters = folium.Map(location=[to_latitude, to_longitude], zoom_start=11)\n",
    "\n",
    "# set color scheme for the clusters\n",
    "x = np.arange(kclusters)\n",
    "ys = [i + x + (i*x)**2 for i in range(kclusters)]\n",
    "colors_array = cm.rainbow(np.linspace(0, 1.2, len(ys)))\n",
    "rainbow = [colors.rgb2hex(i) for i in colors_array]\n",
    "\n",
    "# add markers to the map\n",
    "markers_colors = []\n",
    "for lat, lon, Num_of_gyms, Pop_income, nbr, cluster in zip(to_data_n['Latitude'], to_data_n['Longitude'], to_data_n['Num_of_gyms'],\n",
    "                                        to_data_n['Pop_income'],to_data_n['Neighborhood'], to_data_n['Cluster Labels']):\n",
    "    label = folium.Popup(str(nbr) +' Num_of_gyms'+ ' ' + str(Num_of_gyms) +\n",
    "                         ' Cluster ' + str(cluster) + ' ' +'Pop_income' +' ' + str(Pop_income), parse_html=True)\n",
    "    folium.CircleMarker(\n",
    "        [lat, lon],\n",
    "        radius=5,\n",
    "        popup=label,\n",
    "        color=rainbow[cluster-1],\n",
    "        fill=True,\n",
    "        fill_color=rainbow[cluster-1],\n",
    "        fill_opacity=0.7).add_to(map_clusters)\n",
    "       \n",
    "map_clusters"
   ]
  },
  {
   "cell_type": "markdown",
   "metadata": {},
   "source": [
    "### 8- choosing better neighborhoods"
   ]
  },
  {
   "cell_type": "markdown",
   "metadata": {},
   "source": [
    "The more suitable neighborhoods will be chosen based on the number f existing gyms in each neighborhood and the product of population between 15 to 64 and households average income."
   ]
  },
  {
   "cell_type": "markdown",
   "metadata": {},
   "source": [
    "Checking different cluster, better neighborhoods can be found in **cluster 1**(zero or very low number of Gyms and moderate or high pop_income), after these neighborhoods the next choice can be from the **cluster 4**(low or moderate number of Gyms, high or very high pop_income). \n",
    "\n",
    "**Note**: pop_income shows the normalized value of the product of population and household average income."
   ]
  },
  {
   "cell_type": "code",
   "execution_count": 53,
   "metadata": {},
   "outputs": [
    {
     "data": {
      "text/html": [
       "<div>\n",
       "<style scoped>\n",
       "    .dataframe tbody tr th:only-of-type {\n",
       "        vertical-align: middle;\n",
       "    }\n",
       "\n",
       "    .dataframe tbody tr th {\n",
       "        vertical-align: top;\n",
       "    }\n",
       "\n",
       "    .dataframe thead th {\n",
       "        text-align: right;\n",
       "    }\n",
       "</style>\n",
       "<table border=\"1\" class=\"dataframe\">\n",
       "  <thead>\n",
       "    <tr style=\"text-align: right;\">\n",
       "      <th></th>\n",
       "      <th>PostalCode</th>\n",
       "      <th>Cluster Labels</th>\n",
       "      <th>Borough</th>\n",
       "      <th>Neighborhood</th>\n",
       "      <th>Latitude</th>\n",
       "      <th>Longitude</th>\n",
       "      <th>Population</th>\n",
       "      <th>Average_income</th>\n",
       "      <th>Num_of_gyms</th>\n",
       "      <th>Pop_income</th>\n",
       "      <th>Inv_gym</th>\n",
       "    </tr>\n",
       "  </thead>\n",
       "  <tbody>\n",
       "    <tr>\n",
       "      <th>0</th>\n",
       "      <td>M3A</td>\n",
       "      <td>1</td>\n",
       "      <td>North York</td>\n",
       "      <td>Parkwoods</td>\n",
       "      <td>43.753259</td>\n",
       "      <td>-79.329656</td>\n",
       "      <td>23575.0</td>\n",
       "      <td>71966.0</td>\n",
       "      <td>0</td>\n",
       "      <td>0.396403</td>\n",
       "      <td>1.00</td>\n",
       "    </tr>\n",
       "    <tr>\n",
       "      <th>4</th>\n",
       "      <td>M9A</td>\n",
       "      <td>1</td>\n",
       "      <td>Etobicoke</td>\n",
       "      <td>Islington Avenue, Humber Valley Village</td>\n",
       "      <td>43.667856</td>\n",
       "      <td>-79.532242</td>\n",
       "      <td>24065.0</td>\n",
       "      <td>117148.0</td>\n",
       "      <td>0</td>\n",
       "      <td>0.695308</td>\n",
       "      <td>1.00</td>\n",
       "    </tr>\n",
       "    <tr>\n",
       "      <th>10</th>\n",
       "      <td>M9B</td>\n",
       "      <td>1</td>\n",
       "      <td>Etobicoke</td>\n",
       "      <td>West Deane Park, Princess Gardens, Martin Grov...</td>\n",
       "      <td>43.650943</td>\n",
       "      <td>-79.554724</td>\n",
       "      <td>21765.0</td>\n",
       "      <td>97197.0</td>\n",
       "      <td>1</td>\n",
       "      <td>0.507942</td>\n",
       "      <td>0.89</td>\n",
       "    </tr>\n",
       "    <tr>\n",
       "      <th>11</th>\n",
       "      <td>M1C</td>\n",
       "      <td>1</td>\n",
       "      <td>Scarborough</td>\n",
       "      <td>Rouge Hill, Port Union, Highland Creek</td>\n",
       "      <td>43.784535</td>\n",
       "      <td>-79.160497</td>\n",
       "      <td>23980.0</td>\n",
       "      <td>103716.0</td>\n",
       "      <td>0</td>\n",
       "      <td>0.606892</td>\n",
       "      <td>1.00</td>\n",
       "    </tr>\n",
       "    <tr>\n",
       "      <th>13</th>\n",
       "      <td>M4C</td>\n",
       "      <td>1</td>\n",
       "      <td>East York</td>\n",
       "      <td>Woodbine Heights</td>\n",
       "      <td>43.695344</td>\n",
       "      <td>-79.318389</td>\n",
       "      <td>32785.0</td>\n",
       "      <td>66633.0</td>\n",
       "      <td>0</td>\n",
       "      <td>0.526333</td>\n",
       "      <td>1.00</td>\n",
       "    </tr>\n",
       "  </tbody>\n",
       "</table>\n",
       "</div>"
      ],
      "text/plain": [
       "   PostalCode  Cluster Labels      Borough  \\\n",
       "0         M3A               1   North York   \n",
       "4         M9A               1    Etobicoke   \n",
       "10        M9B               1    Etobicoke   \n",
       "11        M1C               1  Scarborough   \n",
       "13        M4C               1    East York   \n",
       "\n",
       "                                         Neighborhood   Latitude  Longitude  \\\n",
       "0                                           Parkwoods  43.753259 -79.329656   \n",
       "4             Islington Avenue, Humber Valley Village  43.667856 -79.532242   \n",
       "10  West Deane Park, Princess Gardens, Martin Grov...  43.650943 -79.554724   \n",
       "11             Rouge Hill, Port Union, Highland Creek  43.784535 -79.160497   \n",
       "13                                   Woodbine Heights  43.695344 -79.318389   \n",
       "\n",
       "    Population  Average_income  Num_of_gyms  Pop_income  Inv_gym  \n",
       "0      23575.0         71966.0            0    0.396403     1.00  \n",
       "4      24065.0        117148.0            0    0.695308     1.00  \n",
       "10     21765.0         97197.0            1    0.507942     0.89  \n",
       "11     23980.0        103716.0            0    0.606892     1.00  \n",
       "13     32785.0         66633.0            0    0.526333     1.00  "
      ]
     },
     "execution_count": 53,
     "metadata": {},
     "output_type": "execute_result"
    }
   ],
   "source": [
    "to_cluster1= to_data_n[to_data_n['Cluster Labels'] ==1]\n",
    "to_cluster1.head()"
   ]
  },
  {
   "cell_type": "code",
   "execution_count": 54,
   "metadata": {},
   "outputs": [
    {
     "data": {
      "text/html": [
       "<div>\n",
       "<style scoped>\n",
       "    .dataframe tbody tr th:only-of-type {\n",
       "        vertical-align: middle;\n",
       "    }\n",
       "\n",
       "    .dataframe tbody tr th {\n",
       "        vertical-align: top;\n",
       "    }\n",
       "\n",
       "    .dataframe thead th {\n",
       "        text-align: right;\n",
       "    }\n",
       "</style>\n",
       "<table border=\"1\" class=\"dataframe\">\n",
       "  <thead>\n",
       "    <tr style=\"text-align: right;\">\n",
       "      <th></th>\n",
       "      <th>PostalCode</th>\n",
       "      <th>Cluster Labels</th>\n",
       "      <th>Borough</th>\n",
       "      <th>Neighborhood</th>\n",
       "      <th>Latitude</th>\n",
       "      <th>Longitude</th>\n",
       "      <th>Population</th>\n",
       "      <th>Average_income</th>\n",
       "      <th>Num_of_gyms</th>\n",
       "      <th>Pop_income</th>\n",
       "      <th>Inv_gym</th>\n",
       "    </tr>\n",
       "  </thead>\n",
       "  <tbody>\n",
       "    <tr>\n",
       "      <th>5</th>\n",
       "      <td>M1B</td>\n",
       "      <td>4</td>\n",
       "      <td>Scarborough</td>\n",
       "      <td>Malvern, Rouge</td>\n",
       "      <td>43.806686</td>\n",
       "      <td>-79.194353</td>\n",
       "      <td>45135.0</td>\n",
       "      <td>70929.0</td>\n",
       "      <td>2</td>\n",
       "      <td>0.797079</td>\n",
       "      <td>0.800000</td>\n",
       "    </tr>\n",
       "    <tr>\n",
       "      <th>18</th>\n",
       "      <td>M4E</td>\n",
       "      <td>4</td>\n",
       "      <td>East Toronto</td>\n",
       "      <td>The Beaches</td>\n",
       "      <td>43.676357</td>\n",
       "      <td>-79.293031</td>\n",
       "      <td>17295.0</td>\n",
       "      <td>107144.0</td>\n",
       "      <td>3</td>\n",
       "      <td>0.438063</td>\n",
       "      <td>0.725000</td>\n",
       "    </tr>\n",
       "    <tr>\n",
       "      <th>22</th>\n",
       "      <td>M4G</td>\n",
       "      <td>4</td>\n",
       "      <td>East York</td>\n",
       "      <td>Leaside</td>\n",
       "      <td>43.709060</td>\n",
       "      <td>-79.363452</td>\n",
       "      <td>12575.0</td>\n",
       "      <td>156052.0</td>\n",
       "      <td>5</td>\n",
       "      <td>0.467166</td>\n",
       "      <td>0.607143</td>\n",
       "    </tr>\n",
       "    <tr>\n",
       "      <th>30</th>\n",
       "      <td>M6H</td>\n",
       "      <td>4</td>\n",
       "      <td>West Toronto</td>\n",
       "      <td>Dufferin, Dovercourt Village</td>\n",
       "      <td>43.669005</td>\n",
       "      <td>-79.442259</td>\n",
       "      <td>33880.0</td>\n",
       "      <td>68678.0</td>\n",
       "      <td>5</td>\n",
       "      <td>0.564209</td>\n",
       "      <td>0.607143</td>\n",
       "    </tr>\n",
       "    <tr>\n",
       "      <th>32</th>\n",
       "      <td>M2J</td>\n",
       "      <td>4</td>\n",
       "      <td>North York</td>\n",
       "      <td>Fairview, Henry Farm, Oriole</td>\n",
       "      <td>43.778517</td>\n",
       "      <td>-79.346556</td>\n",
       "      <td>40240.0</td>\n",
       "      <td>68092.0</td>\n",
       "      <td>3</td>\n",
       "      <td>0.674234</td>\n",
       "      <td>0.725000</td>\n",
       "    </tr>\n",
       "  </tbody>\n",
       "</table>\n",
       "</div>"
      ],
      "text/plain": [
       "   PostalCode  Cluster Labels       Borough                  Neighborhood  \\\n",
       "5         M1B               4   Scarborough                Malvern, Rouge   \n",
       "18        M4E               4  East Toronto                   The Beaches   \n",
       "22        M4G               4     East York                       Leaside   \n",
       "30        M6H               4  West Toronto  Dufferin, Dovercourt Village   \n",
       "32        M2J               4    North York  Fairview, Henry Farm, Oriole   \n",
       "\n",
       "     Latitude  Longitude  Population  Average_income  Num_of_gyms  Pop_income  \\\n",
       "5   43.806686 -79.194353     45135.0         70929.0            2    0.797079   \n",
       "18  43.676357 -79.293031     17295.0        107144.0            3    0.438063   \n",
       "22  43.709060 -79.363452     12575.0        156052.0            5    0.467166   \n",
       "30  43.669005 -79.442259     33880.0         68678.0            5    0.564209   \n",
       "32  43.778517 -79.346556     40240.0         68092.0            3    0.674234   \n",
       "\n",
       "     Inv_gym  \n",
       "5   0.800000  \n",
       "18  0.725000  \n",
       "22  0.607143  \n",
       "30  0.607143  \n",
       "32  0.725000  "
      ]
     },
     "execution_count": 54,
     "metadata": {},
     "output_type": "execute_result"
    }
   ],
   "source": [
    "to_cluster4= to_data_n[to_data_n['Cluster Labels'] ==4]\n",
    "to_cluster4.head()"
   ]
  }
 ],
 "metadata": {
  "kernelspec": {
   "display_name": "Python",
   "language": "python",
   "name": "conda-env-python-py"
  },
  "language_info": {
   "codemirror_mode": {
    "name": "ipython",
    "version": 3
   },
   "file_extension": ".py",
   "mimetype": "text/x-python",
   "name": "python",
   "nbconvert_exporter": "python",
   "pygments_lexer": "ipython3",
   "version": "3.6.10"
  }
 },
 "nbformat": 4,
 "nbformat_minor": 4
}
